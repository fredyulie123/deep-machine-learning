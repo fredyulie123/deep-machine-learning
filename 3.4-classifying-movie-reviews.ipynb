{
 "cells": [
  {
   "cell_type": "code",
   "execution_count": 1,
   "metadata": {
    "colab": {
     "base_uri": "https://localhost:8080/"
    },
    "id": "sScu2Bi8BoBJ",
    "outputId": "e3369b02-9545-420d-c62c-e9837d9bc4e2"
   },
   "outputs": [
    {
     "name": "stdout",
     "output_type": "stream",
     "text": [
      "Requirement already satisfied: tensorflow in /usr/local/lib/python3.6/dist-packages (2.3.0)\n",
      "Requirement already satisfied: numpy<1.19.0,>=1.16.0 in /usr/local/lib/python3.6/dist-packages (from tensorflow) (1.18.5)\n",
      "Requirement already satisfied: protobuf>=3.9.2 in /usr/local/lib/python3.6/dist-packages (from tensorflow) (3.12.4)\n",
      "Requirement already satisfied: tensorboard<3,>=2.3.0 in /usr/local/lib/python3.6/dist-packages (from tensorflow) (2.3.0)\n",
      "Requirement already satisfied: scipy==1.4.1 in /usr/local/lib/python3.6/dist-packages (from tensorflow) (1.4.1)\n",
      "Requirement already satisfied: keras-preprocessing<1.2,>=1.1.1 in /usr/local/lib/python3.6/dist-packages (from tensorflow) (1.1.2)\n",
      "Requirement already satisfied: termcolor>=1.1.0 in /usr/local/lib/python3.6/dist-packages (from tensorflow) (1.1.0)\n",
      "Requirement already satisfied: six>=1.12.0 in /usr/local/lib/python3.6/dist-packages (from tensorflow) (1.15.0)\n",
      "Requirement already satisfied: grpcio>=1.8.6 in /usr/local/lib/python3.6/dist-packages (from tensorflow) (1.33.1)\n",
      "Requirement already satisfied: astunparse==1.6.3 in /usr/local/lib/python3.6/dist-packages (from tensorflow) (1.6.3)\n",
      "Requirement already satisfied: gast==0.3.3 in /usr/local/lib/python3.6/dist-packages (from tensorflow) (0.3.3)\n",
      "Requirement already satisfied: wheel>=0.26 in /usr/local/lib/python3.6/dist-packages (from tensorflow) (0.35.1)\n",
      "Requirement already satisfied: google-pasta>=0.1.8 in /usr/local/lib/python3.6/dist-packages (from tensorflow) (0.2.0)\n",
      "Requirement already satisfied: h5py<2.11.0,>=2.10.0 in /usr/local/lib/python3.6/dist-packages (from tensorflow) (2.10.0)\n",
      "Requirement already satisfied: opt-einsum>=2.3.2 in /usr/local/lib/python3.6/dist-packages (from tensorflow) (3.3.0)\n",
      "Requirement already satisfied: tensorflow-estimator<2.4.0,>=2.3.0 in /usr/local/lib/python3.6/dist-packages (from tensorflow) (2.3.0)\n",
      "Requirement already satisfied: absl-py>=0.7.0 in /usr/local/lib/python3.6/dist-packages (from tensorflow) (0.10.0)\n",
      "Requirement already satisfied: wrapt>=1.11.1 in /usr/local/lib/python3.6/dist-packages (from tensorflow) (1.12.1)\n",
      "Requirement already satisfied: setuptools in /usr/local/lib/python3.6/dist-packages (from protobuf>=3.9.2->tensorflow) (50.3.2)\n",
      "Requirement already satisfied: google-auth<2,>=1.6.3 in /usr/local/lib/python3.6/dist-packages (from tensorboard<3,>=2.3.0->tensorflow) (1.17.2)\n",
      "Requirement already satisfied: requests<3,>=2.21.0 in /usr/local/lib/python3.6/dist-packages (from tensorboard<3,>=2.3.0->tensorflow) (2.23.0)\n",
      "Requirement already satisfied: werkzeug>=0.11.15 in /usr/local/lib/python3.6/dist-packages (from tensorboard<3,>=2.3.0->tensorflow) (1.0.1)\n",
      "Requirement already satisfied: google-auth-oauthlib<0.5,>=0.4.1 in /usr/local/lib/python3.6/dist-packages (from tensorboard<3,>=2.3.0->tensorflow) (0.4.1)\n",
      "Requirement already satisfied: tensorboard-plugin-wit>=1.6.0 in /usr/local/lib/python3.6/dist-packages (from tensorboard<3,>=2.3.0->tensorflow) (1.7.0)\n",
      "Requirement already satisfied: markdown>=2.6.8 in /usr/local/lib/python3.6/dist-packages (from tensorboard<3,>=2.3.0->tensorflow) (3.3.2)\n",
      "Requirement already satisfied: pyasn1-modules>=0.2.1 in /usr/local/lib/python3.6/dist-packages (from google-auth<2,>=1.6.3->tensorboard<3,>=2.3.0->tensorflow) (0.2.8)\n",
      "Requirement already satisfied: cachetools<5.0,>=2.0.0 in /usr/local/lib/python3.6/dist-packages (from google-auth<2,>=1.6.3->tensorboard<3,>=2.3.0->tensorflow) (4.1.1)\n",
      "Requirement already satisfied: rsa<5,>=3.1.4; python_version >= \"3\" in /usr/local/lib/python3.6/dist-packages (from google-auth<2,>=1.6.3->tensorboard<3,>=2.3.0->tensorflow) (4.6)\n",
      "Requirement already satisfied: urllib3!=1.25.0,!=1.25.1,<1.26,>=1.21.1 in /usr/local/lib/python3.6/dist-packages (from requests<3,>=2.21.0->tensorboard<3,>=2.3.0->tensorflow) (1.24.3)\n",
      "Requirement already satisfied: idna<3,>=2.5 in /usr/local/lib/python3.6/dist-packages (from requests<3,>=2.21.0->tensorboard<3,>=2.3.0->tensorflow) (2.10)\n",
      "Requirement already satisfied: certifi>=2017.4.17 in /usr/local/lib/python3.6/dist-packages (from requests<3,>=2.21.0->tensorboard<3,>=2.3.0->tensorflow) (2020.6.20)\n",
      "Requirement already satisfied: chardet<4,>=3.0.2 in /usr/local/lib/python3.6/dist-packages (from requests<3,>=2.21.0->tensorboard<3,>=2.3.0->tensorflow) (3.0.4)\n",
      "Requirement already satisfied: requests-oauthlib>=0.7.0 in /usr/local/lib/python3.6/dist-packages (from google-auth-oauthlib<0.5,>=0.4.1->tensorboard<3,>=2.3.0->tensorflow) (1.3.0)\n",
      "Requirement already satisfied: importlib-metadata; python_version < \"3.8\" in /usr/local/lib/python3.6/dist-packages (from markdown>=2.6.8->tensorboard<3,>=2.3.0->tensorflow) (2.0.0)\n",
      "Requirement already satisfied: pyasn1<0.5.0,>=0.4.6 in /usr/local/lib/python3.6/dist-packages (from pyasn1-modules>=0.2.1->google-auth<2,>=1.6.3->tensorboard<3,>=2.3.0->tensorflow) (0.4.8)\n",
      "Requirement already satisfied: oauthlib>=3.0.0 in /usr/local/lib/python3.6/dist-packages (from requests-oauthlib>=0.7.0->google-auth-oauthlib<0.5,>=0.4.1->tensorboard<3,>=2.3.0->tensorflow) (3.1.0)\n",
      "Requirement already satisfied: zipp>=0.5 in /usr/local/lib/python3.6/dist-packages (from importlib-metadata; python_version < \"3.8\"->markdown>=2.6.8->tensorboard<3,>=2.3.0->tensorflow) (3.3.1)\n",
      "Requirement already satisfied: keras in /usr/local/lib/python3.6/dist-packages (2.4.3)\n",
      "Requirement already satisfied: pyyaml in /usr/local/lib/python3.6/dist-packages (from keras) (3.13)\n",
      "Requirement already satisfied: numpy>=1.9.1 in /usr/local/lib/python3.6/dist-packages (from keras) (1.18.5)\n",
      "Requirement already satisfied: scipy>=0.14 in /usr/local/lib/python3.6/dist-packages (from keras) (1.4.1)\n",
      "Requirement already satisfied: h5py in /usr/local/lib/python3.6/dist-packages (from keras) (2.10.0)\n",
      "Requirement already satisfied: six in /usr/local/lib/python3.6/dist-packages (from h5py->keras) (1.15.0)\n"
     ]
    }
   ],
   "source": [
    "!pip install tensorflow\n",
    "!pip install keras"
   ]
  },
  {
   "cell_type": "code",
   "execution_count": 2,
   "metadata": {
    "colab": {
     "base_uri": "https://localhost:8080/",
     "height": 35
    },
    "id": "MbvDjolCBoBW",
    "outputId": "7e3785d0-1c5d-4591-d54e-4941940237cd"
   },
   "outputs": [
    {
     "data": {
      "application/vnd.google.colaboratory.intrinsic+json": {
       "type": "string"
      },
      "text/plain": [
       "'2.4.3'"
      ]
     },
     "execution_count": 2,
     "metadata": {
      "tags": []
     },
     "output_type": "execute_result"
    }
   ],
   "source": [
    "import keras\n",
    "keras.__version__"
   ]
  },
  {
   "cell_type": "markdown",
   "metadata": {
    "id": "2f06UsQGBoBg"
   },
   "source": [
    "## The IMDB dataset\n",
    "\n",
    "\n",
    "We'll be working with \"IMDB dataset\", a set of 50,000 highly-polarized reviews from the Internet Movie Database. They are split into 25,000 \n",
    "reviews for training and 25,000 reviews for testing, each set consisting in 50% negative and 50% positive reviews.\n",
    "\n",
    "Why do we have these two separate training and test sets? You should never test a machine learning model on the same data that you used to \n",
    "train it! Just because a model performs well on its training data doesn't mean that it will perform well on data it has never seen, and \n",
    "what you actually care about is your model's performance on new data (since you already know the labels of your training data -- obviously \n",
    "you don't need your model to predict those). For instance, it is possible that your model could end up merely _memorizing_ a mapping between \n",
    "your training samples and their targets -- which would be completely useless for the task of predicting targets for data never seen before. \n",
    "We will go over this point in much more detail in the next chapter.\n",
    "\n",
    "Just like the MNIST dataset, the IMDB dataset comes packaged with Keras. It has already been preprocessed: the reviews (sequences of words) \n",
    "have been turned into sequences of integers, where each integer stands for a specific word in a dictionary.\n",
    "\n",
    "The following code will load the dataset (when you run it for the first time, about 80MB of data will be downloaded to your machine):"
   ]
  },
  {
   "cell_type": "code",
   "execution_count": 3,
   "metadata": {
    "colab": {
     "base_uri": "https://localhost:8080/"
    },
    "id": "DK_K6F47BoBi",
    "outputId": "a059489f-57ab-4f12-dd31-a93544c02e54"
   },
   "outputs": [
    {
     "name": "stdout",
     "output_type": "stream",
     "text": [
      "Downloading data from https://storage.googleapis.com/tensorflow/tf-keras-datasets/imdb.npz\n",
      "17465344/17464789 [==============================] - 0s 0us/step\n"
     ]
    }
   ],
   "source": [
    "from keras.datasets import imdb\n",
    "\n",
    "(train_data, train_labels), (test_data, test_labels) = imdb.load_data(num_words=10000)"
   ]
  },
  {
   "cell_type": "markdown",
   "metadata": {
    "id": "B7uKKLKnBoBx"
   },
   "source": [
    "\n",
    "The argument `num_words=10000` means that we will only keep the top 10,000 most frequently occurring words in the training data. Rare words \n",
    "will be discarded. This allows us to work with vector data of manageable size.\n",
    "\n",
    "The variables `train_data` and `test_data` are lists of reviews, each review being a list of word indices (encoding a sequence of words). \n",
    "`train_labels` and `test_labels` are lists of 0s and 1s, where 0 stands for \"negative\" and 1 stands for \"positive\":"
   ]
  },
  {
   "cell_type": "code",
   "execution_count": 4,
   "metadata": {
    "colab": {
     "base_uri": "https://localhost:8080/"
    },
    "id": "NzopaJVoBoBy",
    "outputId": "7bd8ba20-1c47-4b6a-d12c-f792b1ff4168"
   },
   "outputs": [
    {
     "data": {
      "text/plain": [
       "[1,\n",
       " 14,\n",
       " 22,\n",
       " 16,\n",
       " 43,\n",
       " 530,\n",
       " 973,\n",
       " 1622,\n",
       " 1385,\n",
       " 65,\n",
       " 458,\n",
       " 4468,\n",
       " 66,\n",
       " 3941,\n",
       " 4,\n",
       " 173,\n",
       " 36,\n",
       " 256,\n",
       " 5,\n",
       " 25,\n",
       " 100,\n",
       " 43,\n",
       " 838,\n",
       " 112,\n",
       " 50,\n",
       " 670,\n",
       " 2,\n",
       " 9,\n",
       " 35,\n",
       " 480,\n",
       " 284,\n",
       " 5,\n",
       " 150,\n",
       " 4,\n",
       " 172,\n",
       " 112,\n",
       " 167,\n",
       " 2,\n",
       " 336,\n",
       " 385,\n",
       " 39,\n",
       " 4,\n",
       " 172,\n",
       " 4536,\n",
       " 1111,\n",
       " 17,\n",
       " 546,\n",
       " 38,\n",
       " 13,\n",
       " 447,\n",
       " 4,\n",
       " 192,\n",
       " 50,\n",
       " 16,\n",
       " 6,\n",
       " 147,\n",
       " 2025,\n",
       " 19,\n",
       " 14,\n",
       " 22,\n",
       " 4,\n",
       " 1920,\n",
       " 4613,\n",
       " 469,\n",
       " 4,\n",
       " 22,\n",
       " 71,\n",
       " 87,\n",
       " 12,\n",
       " 16,\n",
       " 43,\n",
       " 530,\n",
       " 38,\n",
       " 76,\n",
       " 15,\n",
       " 13,\n",
       " 1247,\n",
       " 4,\n",
       " 22,\n",
       " 17,\n",
       " 515,\n",
       " 17,\n",
       " 12,\n",
       " 16,\n",
       " 626,\n",
       " 18,\n",
       " 2,\n",
       " 5,\n",
       " 62,\n",
       " 386,\n",
       " 12,\n",
       " 8,\n",
       " 316,\n",
       " 8,\n",
       " 106,\n",
       " 5,\n",
       " 4,\n",
       " 2223,\n",
       " 5244,\n",
       " 16,\n",
       " 480,\n",
       " 66,\n",
       " 3785,\n",
       " 33,\n",
       " 4,\n",
       " 130,\n",
       " 12,\n",
       " 16,\n",
       " 38,\n",
       " 619,\n",
       " 5,\n",
       " 25,\n",
       " 124,\n",
       " 51,\n",
       " 36,\n",
       " 135,\n",
       " 48,\n",
       " 25,\n",
       " 1415,\n",
       " 33,\n",
       " 6,\n",
       " 22,\n",
       " 12,\n",
       " 215,\n",
       " 28,\n",
       " 77,\n",
       " 52,\n",
       " 5,\n",
       " 14,\n",
       " 407,\n",
       " 16,\n",
       " 82,\n",
       " 2,\n",
       " 8,\n",
       " 4,\n",
       " 107,\n",
       " 117,\n",
       " 5952,\n",
       " 15,\n",
       " 256,\n",
       " 4,\n",
       " 2,\n",
       " 7,\n",
       " 3766,\n",
       " 5,\n",
       " 723,\n",
       " 36,\n",
       " 71,\n",
       " 43,\n",
       " 530,\n",
       " 476,\n",
       " 26,\n",
       " 400,\n",
       " 317,\n",
       " 46,\n",
       " 7,\n",
       " 4,\n",
       " 2,\n",
       " 1029,\n",
       " 13,\n",
       " 104,\n",
       " 88,\n",
       " 4,\n",
       " 381,\n",
       " 15,\n",
       " 297,\n",
       " 98,\n",
       " 32,\n",
       " 2071,\n",
       " 56,\n",
       " 26,\n",
       " 141,\n",
       " 6,\n",
       " 194,\n",
       " 7486,\n",
       " 18,\n",
       " 4,\n",
       " 226,\n",
       " 22,\n",
       " 21,\n",
       " 134,\n",
       " 476,\n",
       " 26,\n",
       " 480,\n",
       " 5,\n",
       " 144,\n",
       " 30,\n",
       " 5535,\n",
       " 18,\n",
       " 51,\n",
       " 36,\n",
       " 28,\n",
       " 224,\n",
       " 92,\n",
       " 25,\n",
       " 104,\n",
       " 4,\n",
       " 226,\n",
       " 65,\n",
       " 16,\n",
       " 38,\n",
       " 1334,\n",
       " 88,\n",
       " 12,\n",
       " 16,\n",
       " 283,\n",
       " 5,\n",
       " 16,\n",
       " 4472,\n",
       " 113,\n",
       " 103,\n",
       " 32,\n",
       " 15,\n",
       " 16,\n",
       " 5345,\n",
       " 19,\n",
       " 178,\n",
       " 32]"
      ]
     },
     "execution_count": 4,
     "metadata": {
      "tags": []
     },
     "output_type": "execute_result"
    }
   ],
   "source": [
    "train_data[0]"
   ]
  },
  {
   "cell_type": "code",
   "execution_count": 5,
   "metadata": {
    "colab": {
     "base_uri": "https://localhost:8080/"
    },
    "id": "pu_yp7JCBoB5",
    "outputId": "63975197-02a9-4710-9b25-11e573c52cc0"
   },
   "outputs": [
    {
     "data": {
      "text/plain": [
       "1"
      ]
     },
     "execution_count": 5,
     "metadata": {
      "tags": []
     },
     "output_type": "execute_result"
    }
   ],
   "source": [
    "train_labels[0]"
   ]
  },
  {
   "cell_type": "markdown",
   "metadata": {
    "id": "hRmP7pQGBoCB"
   },
   "source": [
    "Since we restricted ourselves to the top 10,000 most frequent words, no word index will exceed 10,000:"
   ]
  },
  {
   "cell_type": "code",
   "execution_count": 6,
   "metadata": {
    "colab": {
     "base_uri": "https://localhost:8080/"
    },
    "id": "Hx9oTi3FBoCC",
    "outputId": "8cbd8dc9-16e5-4ec6-f64d-746e8422a448"
   },
   "outputs": [
    {
     "data": {
      "text/plain": [
       "9999"
      ]
     },
     "execution_count": 6,
     "metadata": {
      "tags": []
     },
     "output_type": "execute_result"
    }
   ],
   "source": [
    "max([max(sequence) for sequence in train_data])"
   ]
  },
  {
   "cell_type": "markdown",
   "metadata": {
    "id": "N7zETxc2BoCI"
   },
   "source": [
    "For kicks, here's how you can quickly decode one of these reviews back to English words:"
   ]
  },
  {
   "cell_type": "code",
   "execution_count": 7,
   "metadata": {
    "colab": {
     "base_uri": "https://localhost:8080/"
    },
    "id": "7OH6F_wcBoCJ",
    "outputId": "3bcdc36c-8fb0-423d-ea49-0ef4fc2ecc43"
   },
   "outputs": [
    {
     "name": "stdout",
     "output_type": "stream",
     "text": [
      "Downloading data from https://storage.googleapis.com/tensorflow/tf-keras-datasets/imdb_word_index.json\n",
      "1646592/1641221 [==============================] - 0s 0us/step\n"
     ]
    }
   ],
   "source": [
    "# word_index is a dictionary mapping words to an integer index\n",
    "word_index = imdb.get_word_index()\n",
    "# We reverse it, mapping integer indices to words\n",
    "reverse_word_index = dict([(value, key) for (key, value) in word_index.items()])\n",
    "# We decode the review; note that our indices were offset by 3\n",
    "# because 0, 1 and 2 are reserved indices for \"padding\", \"start of sequence\", and \"unknown\".\n",
    "decoded_review = ' '.join([reverse_word_index.get(i - 3, '?') for i in train_data[0]])"
   ]
  },
  {
   "cell_type": "code",
   "execution_count": 8,
   "metadata": {
    "colab": {
     "base_uri": "https://localhost:8080/",
     "height": 137
    },
    "id": "0DZlNbCMBoCR",
    "outputId": "97ab2e44-88c2-480a-ed61-7c5ead53039e"
   },
   "outputs": [
    {
     "data": {
      "application/vnd.google.colaboratory.intrinsic+json": {
       "type": "string"
      },
      "text/plain": [
       "\"? this film was just brilliant casting location scenery story direction everyone's really suited the part they played and you could just imagine being there robert ? is an amazing actor and now the same being director ? father came from the same scottish island as myself so i loved the fact there was a real connection with this film the witty remarks throughout the film were great it was just brilliant so much that i bought the film as soon as it was released for ? and would recommend it to everyone to watch and the fly fishing was amazing really cried at the end it was so sad and you know what they say if you cry at a film it must have been good and this definitely was also ? to the two little boy's that played the ? of norman and paul they were just brilliant children are often left out of the ? list i think because the stars that play them all grown up are such a big profile for the whole film but these children are amazing and should be praised for what they have done don't you think the whole story was so lovely because it was true and was someone's life after all that was shared with us all\""
      ]
     },
     "execution_count": 8,
     "metadata": {
      "tags": []
     },
     "output_type": "execute_result"
    }
   ],
   "source": [
    "decoded_review"
   ]
  },
  {
   "cell_type": "markdown",
   "metadata": {
    "id": "5TpXcXkYBoCX"
   },
   "source": [
    "## Preparing the data\n",
    "\n",
    "\n",
    "We cannot feed lists of integers into a neural network. We have to turn our lists into tensors. There are two ways we could do that:\n",
    "\n",
    "* We could pad our lists so that they all have the same length, and turn them into an integer tensor of shape `(samples, word_indices)`, \n",
    "then use as first layer in our network a layer capable of handling such integer tensors (the `Embedding` layer, which we will cover in \n",
    "detail later in the book).\n",
    "* We could one-hot-encode our lists to turn them into vectors of 0s and 1s. Concretely, this would mean for instance turning the sequence \n",
    "`[3, 5]` into a 10,000-dimensional vector that would be all-zeros except for indices 3 and 5, which would be ones. Then we could use as \n",
    "first layer in our network a `Dense` layer, capable of handling floating point vector data.\n",
    "\n",
    "We will go with the latter solution. Let's vectorize our data, which we will do manually for maximum clarity:"
   ]
  },
  {
   "cell_type": "code",
   "execution_count": 9,
   "metadata": {
    "id": "HuPhHs-VBoCZ"
   },
   "outputs": [],
   "source": [
    "import numpy as np\n",
    "\n",
    "def vectorize_sequences(sequences, dimension=10000):\n",
    "    # Create an all-zero matrix of shape (len(sequences), dimension)\n",
    "    results = np.zeros((len(sequences), dimension))\n",
    "    for i, sequence in enumerate(sequences):\n",
    "        results[i, sequence] = 1.  # set specific indices of results[i] to 1s\n",
    "    return results\n",
    "\n",
    "# Our vectorized training data\n",
    "x_train = vectorize_sequences(train_data)\n",
    "# Our vectorized test data\n",
    "x_test = vectorize_sequences(test_data)"
   ]
  },
  {
   "cell_type": "markdown",
   "metadata": {
    "id": "utZc5OtpBoCf"
   },
   "source": [
    "Here's what our samples look like now:"
   ]
  },
  {
   "cell_type": "code",
   "execution_count": 10,
   "metadata": {
    "colab": {
     "base_uri": "https://localhost:8080/"
    },
    "id": "uk-FUwsGBoCg",
    "outputId": "33f105b2-15a7-4f14-e5b7-8398c9aa1baa"
   },
   "outputs": [
    {
     "data": {
      "text/plain": [
       "array([0., 1., 1., ..., 0., 0., 0.])"
      ]
     },
     "execution_count": 10,
     "metadata": {
      "tags": []
     },
     "output_type": "execute_result"
    }
   ],
   "source": [
    "x_train[0]"
   ]
  },
  {
   "cell_type": "markdown",
   "metadata": {
    "id": "n7syujeZBoCn"
   },
   "source": [
    "We should also vectorize our labels, which is straightforward:"
   ]
  },
  {
   "cell_type": "code",
   "execution_count": 11,
   "metadata": {
    "id": "vxm9-OtgBoCp"
   },
   "outputs": [],
   "source": [
    "# Our vectorized labels\n",
    "y_train = np.asarray(train_labels).astype('float32')\n",
    "y_test = np.asarray(test_labels).astype('float32')"
   ]
  },
  {
   "cell_type": "markdown",
   "metadata": {
    "id": "pzV7n1LcBoCt"
   },
   "source": [
    "Now our data is ready to be fed into a neural network."
   ]
  },
  {
   "cell_type": "markdown",
   "metadata": {
    "id": "L7y0q0RcBoCt"
   },
   "source": [
    "## Building our network\n",
    "\n",
    "\n",
    "Our input data is simply vectors, and our labels are scalars (1s and 0s): this is the easiest setup you will ever encounter. A type of \n",
    "network that performs well on such a problem would be a simple stack of fully-connected (`Dense`) layers with `relu` activations: `Dense(16, \n",
    "activation='relu')`\n",
    "\n",
    "The argument being passed to each `Dense` layer (16) is the number of \"hidden units\" of the layer. What's a hidden unit? It's a dimension \n",
    "in the representation space of the layer. You may remember from the previous chapter that each such `Dense` layer with a `relu` activation implements \n",
    "the following chain of tensor operations:\n",
    "\n",
    "`output = relu(dot(W, input) + b)`\n",
    "\n",
    "Having 16 hidden units means that the weight matrix `W` will have shape `(input_dimension, 16)`, i.e. the dot product with `W` will project the \n",
    "input data onto a 16-dimensional representation space (and then we would add the bias vector `b` and apply the `relu` operation). You can \n",
    "intuitively understand the dimensionality of your representation space as \"how much freedom you are allowing the network to have when \n",
    "learning internal representations\". Having more hidden units (a higher-dimensional representation space) allows your network to learn more \n",
    "complex representations, but it makes your network more computationally expensive and may lead to learning unwanted patterns (patterns that \n",
    "will improve performance on the training data but not on the test data).\n",
    "\n",
    "There are two key architecture decisions to be made about such stack of dense layers:\n",
    "\n",
    "* How many layers to use.\n",
    "* How many \"hidden units\" to chose for each layer.\n",
    "\n",
    "In the next chapter, you will learn formal principles to guide you in making these choices. \n",
    "For the time being, you will have to trust us with the following architecture choice: \n",
    "two intermediate layers with 16 hidden units each, \n",
    "and a third layer which will output the scalar prediction regarding the sentiment of the current review. \n",
    "The intermediate layers will use `relu` as their \"activation function\", \n",
    "and the final layer will use a sigmoid activation so as to output a probability \n",
    "(a score between 0 and 1, indicating how likely the sample is to have the target \"1\", i.e. how likely the review is to be positive). \n",
    "A `relu` (rectified linear unit) is a function meant to zero-out negative values, \n",
    "while a sigmoid \"squashes\" arbitrary values into the `[0, 1]` interval, thus outputting something that can be interpreted as a probability."
   ]
  },
  {
   "cell_type": "markdown",
   "metadata": {
    "id": "VV5ADMByBoCu"
   },
   "source": [
    "Here's what our network looks like:\n",
    "\n",
    "![3-layer network](https://s3.amazonaws.com/book.keras.io/img/ch3/3_layer_network.png)"
   ]
  },
  {
   "cell_type": "markdown",
   "metadata": {
    "id": "3fGkTfKnBoCv"
   },
   "source": [
    "And here's the Keras implementation, very similar to the MNIST example you saw previously:"
   ]
  },
  {
   "cell_type": "code",
   "execution_count": 12,
   "metadata": {
    "id": "XLez5JczBoCv"
   },
   "outputs": [],
   "source": [
    "from keras import models\n",
    "from keras import layers\n",
    "\n",
    "model = models.Sequential()\n",
    "model.add(layers.Dense(16, activation='relu', input_shape=(10000,)))\n",
    "model.add(layers.Dense(16, activation='relu'))\n",
    "model.add(layers.Dense(1, activation='sigmoid'))"
   ]
  },
  {
   "cell_type": "markdown",
   "metadata": {
    "id": "OrfI6mCDBoC2"
   },
   "source": [
    "\n",
    "Lastly, we need to pick a loss function and an optimizer. Since we are facing a binary classification problem and the output of our network \n",
    "is a probability (we end our network with a single-unit layer with a sigmoid activation), is it best to use the `binary_crossentropy` loss. \n",
    "It isn't the only viable choice: you could use, for instance, `mean_squared_error`. But crossentropy is usually the best choice when you \n",
    "are dealing with models that output probabilities. Crossentropy is a quantity from the field of Information Theory, that measures the \"distance\" \n",
    "between probability distributions, or in our case, between the ground-truth distribution and our predictions.\n",
    "\n",
    "Here's the step where we configure our model with the `rmsprop` optimizer and the `binary_crossentropy` loss function. Note that we will \n",
    "also monitor accuracy during training."
   ]
  },
  {
   "cell_type": "code",
   "execution_count": 13,
   "metadata": {
    "id": "a7E3BYRiBoC3"
   },
   "outputs": [],
   "source": [
    "model.compile(optimizer='rmsprop',\n",
    "              loss='binary_crossentropy',\n",
    "              metrics=['accuracy'])"
   ]
  },
  {
   "cell_type": "markdown",
   "metadata": {
    "id": "jNE2NZLyBoC8"
   },
   "source": [
    "We are passing our optimizer, loss function and metrics as strings, which is possible because `rmsprop`, `binary_crossentropy` and \n",
    "`accuracy` are packaged as part of Keras. Sometimes you may want to configure the parameters of your optimizer, or pass a custom loss \n",
    "function or metric function. This former can be done by passing an optimizer class instance as the `optimizer` argument:"
   ]
  },
  {
   "cell_type": "code",
   "execution_count": 14,
   "metadata": {
    "id": "nQy9K5KUBoC8"
   },
   "outputs": [],
   "source": [
    "from keras import optimizers\n",
    "\n",
    "model.compile(optimizer=optimizers.RMSprop(lr=0.001),\n",
    "              loss='binary_crossentropy',\n",
    "              metrics=['accuracy'])"
   ]
  },
  {
   "cell_type": "markdown",
   "metadata": {
    "id": "tNoLaanKBoDB"
   },
   "source": [
    "The latter can be done by passing function objects as the `loss` or `metrics` arguments:"
   ]
  },
  {
   "cell_type": "code",
   "execution_count": 15,
   "metadata": {
    "id": "gv-OHc0uBoDC"
   },
   "outputs": [],
   "source": [
    "from keras import losses\n",
    "from keras import metrics\n",
    "\n",
    "model.compile(optimizer=optimizers.RMSprop(lr=0.001),\n",
    "              loss=losses.binary_crossentropy,\n",
    "              metrics=[metrics.binary_accuracy])"
   ]
  },
  {
   "cell_type": "markdown",
   "metadata": {
    "id": "E7-LhDVzBoDK"
   },
   "source": [
    "## Validating our approach\n",
    "\n",
    "In order to monitor during training the accuracy of the model on data that it has never seen before, we will create a \"validation set\" by \n",
    "setting apart 10,000 samples from the original training data:"
   ]
  },
  {
   "cell_type": "code",
   "execution_count": 16,
   "metadata": {
    "id": "W9O0QsGqBoDL"
   },
   "outputs": [],
   "source": [
    "x_val = x_train[:10000]\n",
    "partial_x_train = x_train[10000:]\n",
    "\n",
    "y_val = y_train[:10000]\n",
    "partial_y_train = y_train[10000:]"
   ]
  },
  {
   "cell_type": "markdown",
   "metadata": {
    "id": "BW6JPY7YBoDU"
   },
   "source": [
    "We will now train our model for 20 epochs (20 iterations over all samples in the `x_train` and `y_train` tensors), in mini-batches of 512 \n",
    "samples. At this same time we will monitor loss and accuracy on the 10,000 samples that we set apart. This is done by passing the \n",
    "validation data as the `validation_data` argument:"
   ]
  },
  {
   "cell_type": "code",
   "execution_count": 17,
   "metadata": {
    "colab": {
     "base_uri": "https://localhost:8080/"
    },
    "id": "w1gb-dyeBoDV",
    "outputId": "d111cd9e-ed2c-42d8-e14d-4fc71da4bc43"
   },
   "outputs": [
    {
     "name": "stdout",
     "output_type": "stream",
     "text": [
      "Epoch 1/20\n",
      "30/30 [==============================] - 1s 46ms/step - loss: 0.5508 - binary_accuracy: 0.7715 - val_loss: 0.4510 - val_binary_accuracy: 0.8416\n",
      "Epoch 2/20\n",
      "30/30 [==============================] - 1s 32ms/step - loss: 0.3426 - binary_accuracy: 0.9008 - val_loss: 0.3240 - val_binary_accuracy: 0.8849\n",
      "Epoch 3/20\n",
      "30/30 [==============================] - 1s 32ms/step - loss: 0.2464 - binary_accuracy: 0.9238 - val_loss: 0.2951 - val_binary_accuracy: 0.8844\n",
      "Epoch 4/20\n",
      "30/30 [==============================] - 1s 32ms/step - loss: 0.1930 - binary_accuracy: 0.9374 - val_loss: 0.2880 - val_binary_accuracy: 0.8842\n",
      "Epoch 5/20\n",
      "30/30 [==============================] - 1s 32ms/step - loss: 0.1559 - binary_accuracy: 0.9511 - val_loss: 0.2802 - val_binary_accuracy: 0.8869\n",
      "Epoch 6/20\n",
      "30/30 [==============================] - 1s 32ms/step - loss: 0.1280 - binary_accuracy: 0.9615 - val_loss: 0.2882 - val_binary_accuracy: 0.8857\n",
      "Epoch 7/20\n",
      "30/30 [==============================] - 1s 32ms/step - loss: 0.1061 - binary_accuracy: 0.9683 - val_loss: 0.3020 - val_binary_accuracy: 0.8837\n",
      "Epoch 8/20\n",
      "30/30 [==============================] - 1s 32ms/step - loss: 0.0888 - binary_accuracy: 0.9733 - val_loss: 0.3166 - val_binary_accuracy: 0.8845\n",
      "Epoch 9/20\n",
      "30/30 [==============================] - 1s 32ms/step - loss: 0.0745 - binary_accuracy: 0.9799 - val_loss: 0.3968 - val_binary_accuracy: 0.8645\n",
      "Epoch 10/20\n",
      "30/30 [==============================] - 1s 32ms/step - loss: 0.0601 - binary_accuracy: 0.9855 - val_loss: 0.3654 - val_binary_accuracy: 0.8758\n",
      "Epoch 11/20\n",
      "30/30 [==============================] - 1s 32ms/step - loss: 0.0502 - binary_accuracy: 0.9889 - val_loss: 0.3858 - val_binary_accuracy: 0.8795\n",
      "Epoch 12/20\n",
      "30/30 [==============================] - 1s 32ms/step - loss: 0.0395 - binary_accuracy: 0.9923 - val_loss: 0.4309 - val_binary_accuracy: 0.8686\n",
      "Epoch 13/20\n",
      "30/30 [==============================] - 1s 32ms/step - loss: 0.0324 - binary_accuracy: 0.9943 - val_loss: 0.4452 - val_binary_accuracy: 0.8759\n",
      "Epoch 14/20\n",
      "30/30 [==============================] - 1s 33ms/step - loss: 0.0245 - binary_accuracy: 0.9960 - val_loss: 0.4763 - val_binary_accuracy: 0.8744\n",
      "Epoch 15/20\n",
      "30/30 [==============================] - 1s 33ms/step - loss: 0.0223 - binary_accuracy: 0.9955 - val_loss: 0.5071 - val_binary_accuracy: 0.8721\n",
      "Epoch 16/20\n",
      "30/30 [==============================] - 1s 33ms/step - loss: 0.0153 - binary_accuracy: 0.9977 - val_loss: 0.5386 - val_binary_accuracy: 0.8705\n",
      "Epoch 17/20\n",
      "30/30 [==============================] - 1s 32ms/step - loss: 0.0116 - binary_accuracy: 0.9989 - val_loss: 0.5690 - val_binary_accuracy: 0.8682\n",
      "Epoch 18/20\n",
      "30/30 [==============================] - 1s 32ms/step - loss: 0.0102 - binary_accuracy: 0.9987 - val_loss: 0.6011 - val_binary_accuracy: 0.8686\n",
      "Epoch 19/20\n",
      "30/30 [==============================] - 1s 32ms/step - loss: 0.0073 - binary_accuracy: 0.9994 - val_loss: 0.6401 - val_binary_accuracy: 0.8681\n",
      "Epoch 20/20\n",
      "30/30 [==============================] - 1s 32ms/step - loss: 0.0044 - binary_accuracy: 0.9999 - val_loss: 0.6674 - val_binary_accuracy: 0.8670\n"
     ]
    }
   ],
   "source": [
    "history = model.fit(partial_x_train,\n",
    "                    partial_y_train,\n",
    "                    epochs=20,\n",
    "                    batch_size=512,\n",
    "                    validation_data=(x_val, y_val))"
   ]
  },
  {
   "cell_type": "markdown",
   "metadata": {
    "id": "6VzRsByYBoDb"
   },
   "source": [
    "On CPU, this will take less than two seconds per epoch -- training is over in 20 seconds. At the end of every epoch, there is a slight pause \n",
    "as the model computes its loss and accuracy on the 10,000 samples of the validation data.\n",
    "\n",
    "Note that the call to `model.fit()` returns a `History` object. This object has a member `history`, which is a dictionary containing data \n",
    "about everything that happened during training. Let's take a look at it:"
   ]
  },
  {
   "cell_type": "code",
   "execution_count": 18,
   "metadata": {
    "colab": {
     "base_uri": "https://localhost:8080/"
    },
    "id": "2IHrC1HVBoDb",
    "outputId": "01bd3bdc-dd59-45d0-f158-603471d99d83"
   },
   "outputs": [
    {
     "data": {
      "text/plain": [
       "dict_keys(['loss', 'binary_accuracy', 'val_loss', 'val_binary_accuracy'])"
      ]
     },
     "execution_count": 18,
     "metadata": {
      "tags": []
     },
     "output_type": "execute_result"
    }
   ],
   "source": [
    "history_dict = history.history\n",
    "history_dict.keys()"
   ]
  },
  {
   "cell_type": "code",
   "execution_count": 19,
   "metadata": {
    "colab": {
     "base_uri": "https://localhost:8080/"
    },
    "id": "VXZPjPeDBoDh",
    "outputId": "76a08550-6f6b-4e96-e5d1-0e082e520fe8"
   },
   "outputs": [
    {
     "data": {
      "text/plain": [
       "{'binary_accuracy': [0.7714666724205017,\n",
       "  0.9007999897003174,\n",
       "  0.923799991607666,\n",
       "  0.9373999834060669,\n",
       "  0.9510666728019714,\n",
       "  0.9615333080291748,\n",
       "  0.9682666659355164,\n",
       "  0.9733333587646484,\n",
       "  0.9799333214759827,\n",
       "  0.9855333566665649,\n",
       "  0.9888666868209839,\n",
       "  0.9923333525657654,\n",
       "  0.9942666888237,\n",
       "  0.9959999918937683,\n",
       "  0.9955333471298218,\n",
       "  0.9977333545684814,\n",
       "  0.9988666772842407,\n",
       "  0.9987333416938782,\n",
       "  0.9994000196456909,\n",
       "  0.9998666644096375],\n",
       " 'loss': [0.5508393049240112,\n",
       "  0.3426108658313751,\n",
       "  0.24635443091392517,\n",
       "  0.19302549958229065,\n",
       "  0.1559140980243683,\n",
       "  0.1279601752758026,\n",
       "  0.10605685412883759,\n",
       "  0.08884359896183014,\n",
       "  0.07446382939815521,\n",
       "  0.060119327157735825,\n",
       "  0.05017705634236336,\n",
       "  0.03950703144073486,\n",
       "  0.03242490813136101,\n",
       "  0.024486098438501358,\n",
       "  0.02225637622177601,\n",
       "  0.0152816791087389,\n",
       "  0.011634539812803268,\n",
       "  0.010200778022408485,\n",
       "  0.0073080603033304214,\n",
       "  0.004409720189869404],\n",
       " 'val_binary_accuracy': [0.8416000008583069,\n",
       "  0.8848999738693237,\n",
       "  0.8844000101089478,\n",
       "  0.8841999769210815,\n",
       "  0.886900007724762,\n",
       "  0.885699987411499,\n",
       "  0.8837000131607056,\n",
       "  0.8845000267028809,\n",
       "  0.8644999861717224,\n",
       "  0.8758000135421753,\n",
       "  0.8794999718666077,\n",
       "  0.8686000108718872,\n",
       "  0.8758999705314636,\n",
       "  0.8744000196456909,\n",
       "  0.8720999956130981,\n",
       "  0.8705000281333923,\n",
       "  0.8682000041007996,\n",
       "  0.8686000108718872,\n",
       "  0.8680999875068665,\n",
       "  0.8669999837875366],\n",
       " 'val_loss': [0.45100048184394836,\n",
       "  0.3239668011665344,\n",
       "  0.2951275706291199,\n",
       "  0.28798824548721313,\n",
       "  0.2802281379699707,\n",
       "  0.2881942093372345,\n",
       "  0.3019588887691498,\n",
       "  0.316569060087204,\n",
       "  0.3967905044555664,\n",
       "  0.3654407262802124,\n",
       "  0.38581299781799316,\n",
       "  0.4308735728263855,\n",
       "  0.4452151358127594,\n",
       "  0.4763181507587433,\n",
       "  0.5071204900741577,\n",
       "  0.5385711193084717,\n",
       "  0.5689704418182373,\n",
       "  0.6011273860931396,\n",
       "  0.6401209235191345,\n",
       "  0.6673941612243652]}"
      ]
     },
     "execution_count": 19,
     "metadata": {
      "tags": []
     },
     "output_type": "execute_result"
    }
   ],
   "source": [
    "history.history"
   ]
  },
  {
   "cell_type": "markdown",
   "metadata": {
    "id": "uVLFR_CnBoDm"
   },
   "source": [
    "It contains 4 entries: one per metric that was being monitored, during training and during validation. Let's use Matplotlib to plot the \n",
    "training and validation loss side by side, as well as the training and validation accuracy:"
   ]
  },
  {
   "cell_type": "code",
   "execution_count": 20,
   "metadata": {
    "colab": {
     "base_uri": "https://localhost:8080/",
     "height": 295
    },
    "id": "NlCVmr-VBoDn",
    "outputId": "8fc7068a-f9da-4316-f466-06e804e2f490"
   },
   "outputs": [
    {
     "data": {
      "image/png": "[encoded data removed]",
      "text/plain": [
       "<Figure size 432x288 with 1 Axes>"
      ]
     },
     "metadata": {
      "needs_background": "light",
      "tags": []
     },
     "output_type": "display_data"
    }
   ],
   "source": [
    "import matplotlib.pyplot as plt\n",
    "\n",
    "acc = history.history['binary_accuracy']#['acc']#['val_acc'] for keras 2.0\n",
    "val_acc = history.history['val_binary_accuracy']#['val_acc'] for keras 2.0\n",
    "loss = history.history['loss']\n",
    "val_loss = history.history['val_loss']\n",
    "\n",
    "epochs = range(1, len(acc) + 1)\n",
    "\n",
    "# \"bo\" is for \"blue dot\"\n",
    "plt.plot(epochs, loss, 'bo', label='Training loss')\n",
    "# b is for \"solid blue line\"\n",
    "plt.plot(epochs, val_loss, 'b', label='Validation loss')\n",
    "plt.title('Training and validation loss')\n",
    "plt.xlabel('Epochs')\n",
    "plt.ylabel('Loss')\n",
    "plt.legend()\n",
    "\n",
    "plt.show()"
   ]
  },
  {
   "cell_type": "code",
   "execution_count": 21,
   "metadata": {
    "colab": {
     "base_uri": "https://localhost:8080/",
     "height": 295
    },
    "id": "GItZOzY0BoDr",
    "outputId": "6f23d8bb-3de8-4ddf-8bd1-852936c5b56c"
   },
   "outputs": [
    {
     "data": {
      "image/png": "[encoded data removed]",
      "text/plain": [
       "<Figure size 432x288 with 1 Axes>"
      ]
     },
     "metadata": {
      "needs_background": "light",
      "tags": []
     },
     "output_type": "display_data"
    }
   ],
   "source": [
    "plt.clf()   # clear figure\n",
    "acc_values = history_dict['binary_accuracy']#['acc']#['val_acc'] for keras 2.0\n",
    "val_acc_values = history_dict['val_binary_accuracy']#['val_acc'] for keras 2.0\n",
    "\n",
    "plt.plot(epochs, acc, 'bo', label='Training acc')\n",
    "plt.plot(epochs, val_acc, 'b', label='Validation acc')\n",
    "plt.title('Training and validation accuracy')\n",
    "plt.xlabel('Epochs')\n",
    "plt.ylabel('Loss')\n",
    "plt.legend()\n",
    "\n",
    "plt.show()"
   ]
  },
  {
   "cell_type": "markdown",
   "metadata": {
    "id": "ouHByFD6BoDx"
   },
   "source": [
    "\n",
    "The dots are the training loss and accuracy, while the solid lines are the validation loss and accuracy. Note that your own results may vary \n",
    "slightly due to a different random initialization of your network.\n",
    "\n",
    "As you can see, the training loss decreases with every epoch and the training accuracy increases with every epoch. That's what you would \n",
    "expect when running gradient descent optimization -- the quantity you are trying to minimize should get lower with every iteration. But that \n",
    "isn't the case for the validation loss and accuracy: they seem to peak at the fourth epoch. This is an example of what we were warning \n",
    "against earlier: a model that performs better on the training data isn't necessarily a model that will do better on data it has never seen \n",
    "before. In precise terms, what you are seeing is \"overfitting\": after the second epoch, we are over-optimizing on the training data, and we \n",
    "ended up learning representations that are specific to the training data and do not generalize to data outside of the training set.\n",
    "\n",
    "In this case, to prevent overfitting, we could simply stop training after three epochs. In general, there is a range of techniques you can \n",
    "leverage to mitigate overfitting, which we will cover in the next chapter.\n",
    "\n",
    "Let's train a new network from scratch for four epochs, then evaluate it on our test data:"
   ]
  },
  {
   "cell_type": "code",
   "execution_count": 22,
   "metadata": {
    "colab": {
     "base_uri": "https://localhost:8080/"
    },
    "id": "R4xc6ZZdBoDy",
    "outputId": "66c4aca0-5d6f-4dc6-ee9d-6c26ce516d2b"
   },
   "outputs": [
    {
     "name": "stdout",
     "output_type": "stream",
     "text": [
      "Epoch 1/4\n",
      "49/49 [==============================] - 1s 26ms/step - loss: 0.4604 - accuracy: 0.8186\n",
      "Epoch 2/4\n",
      "49/49 [==============================] - 1s 25ms/step - loss: 0.2669 - accuracy: 0.9080\n",
      "Epoch 3/4\n",
      "49/49 [==============================] - 1s 26ms/step - loss: 0.2039 - accuracy: 0.9285\n",
      "Epoch 4/4\n",
      "49/49 [==============================] - 1s 25ms/step - loss: 0.1709 - accuracy: 0.9397\n",
      "782/782 [==============================] - 1s 2ms/step - loss: 0.3129 - accuracy: 0.8767\n"
     ]
    }
   ],
   "source": [
    "model = models.Sequential()\n",
    "model.add(layers.Dense(16, activation='relu', input_shape=(10000,)))\n",
    "model.add(layers.Dense(16, activation='relu'))\n",
    "model.add(layers.Dense(1, activation='sigmoid'))\n",
    "\n",
    "model.compile(optimizer='rmsprop',\n",
    "              loss='binary_crossentropy',\n",
    "              metrics=['accuracy'])\n",
    "\n",
    "model.fit(x_train, y_train, epochs=4, batch_size=512)\n",
    "results = model.evaluate(x_test, y_test)"
   ]
  },
  {
   "cell_type": "code",
   "execution_count": null,
   "metadata": {
    "id": "O7FYKzkWBoD3"
   },
   "outputs": [],
   "source": []
  },
  {
   "cell_type": "code",
   "execution_count": 23,
   "metadata": {
    "colab": {
     "base_uri": "https://localhost:8080/"
    },
    "id": "MuBmGcTdBoD9",
    "outputId": "e3a945a6-95eb-40ed-c804-aa6bb5a287b9"
   },
   "outputs": [
    {
     "data": {
      "text/plain": [
       "[0.3128802478313446, 0.8766800165176392]"
      ]
     },
     "execution_count": 23,
     "metadata": {
      "tags": []
     },
     "output_type": "execute_result"
    }
   ],
   "source": [
    "results #exercise output"
   ]
  },
  {
   "cell_type": "markdown",
   "metadata": {
    "id": "iZnMKpH_BoED"
   },
   "source": [
    "## Using a trained network to generate predictions on new data\n",
    "\n",
    "After having trained a network, you will want to use it in a practical setting. You can generate the likelihood of reviews being positive \n",
    "by using the `predict` method:"
   ]
  },
  {
   "cell_type": "code",
   "execution_count": 24,
   "metadata": {
    "colab": {
     "base_uri": "https://localhost:8080/"
    },
    "id": "CmFaf7i0BoEG",
    "outputId": "ed40a9d8-aaf0-4c22-88ce-790a711c8f47"
   },
   "outputs": [
    {
     "data": {
      "text/plain": [
       "array([[0.2958042 ],\n",
       "       [0.9999812 ],\n",
       "       [0.98069346],\n",
       "       ...,\n",
       "       [0.22095788],\n",
       "       [0.15194696],\n",
       "       [0.81703925]], dtype=float32)"
      ]
     },
     "execution_count": 24,
     "metadata": {
      "tags": []
     },
     "output_type": "execute_result"
    }
   ],
   "source": [
    "model.predict(x_test)"
   ]
  },
  {
   "cell_type": "markdown",
   "metadata": {
    "id": "8vkLdOIXBoEL"
   },
   "source": [
    "As you can see, the network is very confident for some samples (0.99 or more, or 0.01 or less) but less confident for others (0.6, 0.4). \n"
   ]
  },
  {
   "cell_type": "markdown",
   "metadata": {
    "id": "CIEgb7uiBoEM"
   },
   "source": [
    "## Conclusions\n",
    "\n",
    "\n",
    "Here's what you should take away from this example:\n",
    "\n",
    "* There's usually quite a bit of preprocessing you need to do on your raw data in order to be able to feed it -- as tensors -- into a neural \n",
    "network. In the case of sequences of words, they can be encoded as binary vectors -- but there are other encoding options too.\n",
    "* Stacks of `Dense` layers with `relu` activations can solve a wide range of problems (including sentiment classification), and you will \n",
    "likely use them frequently.\n",
    "* In a binary classification problem (two output classes), your network should end with a `Dense` layer with 1 unit and a `sigmoid` activation, \n",
    "i.e. the output of your network should be a scalar between 0 and 1, encoding a probability.\n",
    "* With such a scalar sigmoid output, on a binary classification problem, the loss function you should use is `binary_crossentropy`.\n",
    "* The `rmsprop` optimizer is generally a good enough choice of optimizer, whatever your problem. That's one less thing for you to worry \n",
    "about.\n",
    "* As they get better on their training data, neural networks eventually start _overfitting_ and end up obtaining increasingly worse results on data \n",
    "never-seen-before. Make sure to always monitor performance on data that is outside of the training set.\n"
   ]
  },
  {
   "cell_type": "markdown",
   "metadata": {
    "id": "k-6doD6vpAlT"
   },
   "source": [
    "## using layers with 32 units"
   ]
  },
  {
   "cell_type": "code",
   "execution_count": 25,
   "metadata": {
    "id": "BVJEE1Jno91O"
   },
   "outputs": [],
   "source": [
    "model = models.Sequential()\n",
    "model.add(layers.Dense(32, activation='relu', input_shape=(10000,)))\n",
    "model.add(layers.Dense(32, activation='relu'))\n",
    "model.add(layers.Dense(1, activation='sigmoid'))"
   ]
  },
  {
   "cell_type": "code",
   "execution_count": 26,
   "metadata": {
    "id": "Bkdc171ppjf6"
   },
   "outputs": [],
   "source": [
    "model.compile(optimizer='rmsprop',\n",
    "              loss='binary_crossentropy',\n",
    "              metrics=['accuracy'])"
   ]
  },
  {
   "cell_type": "code",
   "execution_count": 27,
   "metadata": {
    "id": "zrEsPUzhpp3q"
   },
   "outputs": [],
   "source": [
    "from keras import optimizers\n",
    "\n",
    "model.compile(optimizer=optimizers.RMSprop(lr=0.001),\n",
    "              loss='binary_crossentropy',\n",
    "              metrics=['accuracy'])"
   ]
  },
  {
   "cell_type": "code",
   "execution_count": 28,
   "metadata": {
    "id": "bFqm_HbQp0cf"
   },
   "outputs": [],
   "source": [
    "from keras import losses\n",
    "from keras import metrics\n",
    "\n",
    "model.compile(optimizer=optimizers.RMSprop(lr=0.001),\n",
    "              loss=losses.binary_crossentropy,\n",
    "              metrics=[metrics.binary_accuracy])"
   ]
  },
  {
   "cell_type": "code",
   "execution_count": 29,
   "metadata": {
    "id": "owdfJPs7p14_"
   },
   "outputs": [],
   "source": [
    "x_val = x_train[:10000]\n",
    "partial_x_train = x_train[10000:]\n",
    "\n",
    "y_val = y_train[:10000]\n",
    "partial_y_train = y_train[10000:]"
   ]
  },
  {
   "cell_type": "code",
   "execution_count": 30,
   "metadata": {
    "colab": {
     "base_uri": "https://localhost:8080/"
    },
    "id": "KgCJxG_Xp6mT",
    "outputId": "8d6030d6-0eb5-4b8d-d4ae-05185dad9005"
   },
   "outputs": [
    {
     "name": "stdout",
     "output_type": "stream",
     "text": [
      "Epoch 1/20\n",
      "30/30 [==============================] - 1s 44ms/step - loss: 0.4706 - binary_accuracy: 0.7899 - val_loss: 0.4274 - val_binary_accuracy: 0.8035\n",
      "Epoch 2/20\n",
      "30/30 [==============================] - 1s 38ms/step - loss: 0.2660 - binary_accuracy: 0.9070 - val_loss: 0.2892 - val_binary_accuracy: 0.8884\n",
      "Epoch 3/20\n",
      "30/30 [==============================] - 1s 38ms/step - loss: 0.1942 - binary_accuracy: 0.9345 - val_loss: 0.2930 - val_binary_accuracy: 0.8806\n",
      "Epoch 4/20\n",
      "30/30 [==============================] - 1s 37ms/step - loss: 0.1533 - binary_accuracy: 0.9473 - val_loss: 0.2842 - val_binary_accuracy: 0.8878\n",
      "Epoch 5/20\n",
      "30/30 [==============================] - 1s 38ms/step - loss: 0.1217 - binary_accuracy: 0.9597 - val_loss: 0.3157 - val_binary_accuracy: 0.8791\n",
      "Epoch 6/20\n",
      "30/30 [==============================] - 1s 37ms/step - loss: 0.1039 - binary_accuracy: 0.9648 - val_loss: 0.3207 - val_binary_accuracy: 0.8847\n",
      "Epoch 7/20\n",
      "30/30 [==============================] - 1s 36ms/step - loss: 0.0786 - binary_accuracy: 0.9749 - val_loss: 0.3601 - val_binary_accuracy: 0.8783\n",
      "Epoch 8/20\n",
      "30/30 [==============================] - 1s 36ms/step - loss: 0.0648 - binary_accuracy: 0.9793 - val_loss: 0.3733 - val_binary_accuracy: 0.8791\n",
      "Epoch 9/20\n",
      "30/30 [==============================] - 1s 36ms/step - loss: 0.0538 - binary_accuracy: 0.9842 - val_loss: 0.4040 - val_binary_accuracy: 0.8763\n",
      "Epoch 10/20\n",
      "30/30 [==============================] - 1s 36ms/step - loss: 0.0368 - binary_accuracy: 0.9906 - val_loss: 0.5090 - val_binary_accuracy: 0.8632\n",
      "Epoch 11/20\n",
      "30/30 [==============================] - 1s 37ms/step - loss: 0.0320 - binary_accuracy: 0.9921 - val_loss: 0.4734 - val_binary_accuracy: 0.8737\n",
      "Epoch 12/20\n",
      "30/30 [==============================] - 1s 37ms/step - loss: 0.0223 - binary_accuracy: 0.9960 - val_loss: 0.5503 - val_binary_accuracy: 0.8663\n",
      "Epoch 13/20\n",
      "30/30 [==============================] - 1s 36ms/step - loss: 0.0113 - binary_accuracy: 0.9993 - val_loss: 0.5511 - val_binary_accuracy: 0.8674\n",
      "Epoch 14/20\n",
      "30/30 [==============================] - 1s 37ms/step - loss: 0.0238 - binary_accuracy: 0.9931 - val_loss: 0.5778 - val_binary_accuracy: 0.8676\n",
      "Epoch 15/20\n",
      "30/30 [==============================] - 1s 36ms/step - loss: 0.0053 - binary_accuracy: 0.9999 - val_loss: 0.6177 - val_binary_accuracy: 0.8690\n",
      "Epoch 16/20\n",
      "30/30 [==============================] - 1s 36ms/step - loss: 0.0195 - binary_accuracy: 0.9941 - val_loss: 0.6494 - val_binary_accuracy: 0.8678\n",
      "Epoch 17/20\n",
      "30/30 [==============================] - 1s 37ms/step - loss: 0.0027 - binary_accuracy: 0.9999 - val_loss: 0.6817 - val_binary_accuracy: 0.8699\n",
      "Epoch 18/20\n",
      "30/30 [==============================] - 1s 36ms/step - loss: 0.0128 - binary_accuracy: 0.9960 - val_loss: 0.7225 - val_binary_accuracy: 0.8691\n",
      "Epoch 19/20\n",
      "30/30 [==============================] - 1s 37ms/step - loss: 0.0015 - binary_accuracy: 1.0000 - val_loss: 0.7498 - val_binary_accuracy: 0.8683\n",
      "Epoch 20/20\n",
      "30/30 [==============================] - 1s 37ms/step - loss: 0.0011 - binary_accuracy: 1.0000 - val_loss: 0.8047 - val_binary_accuracy: 0.8685\n"
     ]
    }
   ],
   "source": [
    "history = model.fit(partial_x_train,\n",
    "                    partial_y_train,\n",
    "                    epochs=20,\n",
    "                    batch_size=512,\n",
    "                    validation_data=(x_val, y_val))"
   ]
  },
  {
   "cell_type": "code",
   "execution_count": 31,
   "metadata": {
    "colab": {
     "base_uri": "https://localhost:8080/"
    },
    "id": "UoNI86eop__B",
    "outputId": "ddd01d50-d1a3-4ea4-e898-1abdc9767237"
   },
   "outputs": [
    {
     "data": {
      "text/plain": [
       "dict_keys(['loss', 'binary_accuracy', 'val_loss', 'val_binary_accuracy'])"
      ]
     },
     "execution_count": 31,
     "metadata": {
      "tags": []
     },
     "output_type": "execute_result"
    }
   ],
   "source": [
    "history_dict = history.history\n",
    "history_dict.keys()"
   ]
  },
  {
   "cell_type": "code",
   "execution_count": 32,
   "metadata": {
    "colab": {
     "base_uri": "https://localhost:8080/"
    },
    "id": "WC11uct7qE9c",
    "outputId": "261d7ec3-d8f3-4eee-ec08-66fb2d20b086"
   },
   "outputs": [
    {
     "data": {
      "text/plain": [
       "{'binary_accuracy': [0.7899333238601685,\n",
       "  0.9070000052452087,\n",
       "  0.9344666600227356,\n",
       "  0.9472666382789612,\n",
       "  0.9596666693687439,\n",
       "  0.9648000001907349,\n",
       "  0.9749333262443542,\n",
       "  0.9793333411216736,\n",
       "  0.9842000007629395,\n",
       "  0.9905999898910522,\n",
       "  0.9920666813850403,\n",
       "  0.9959999918937683,\n",
       "  0.9992666840553284,\n",
       "  0.9931333065032959,\n",
       "  0.9998666644096375,\n",
       "  0.9941333532333374,\n",
       "  0.9999333620071411,\n",
       "  0.9959999918937683,\n",
       "  1.0,\n",
       "  1.0],\n",
       " 'loss': [0.4705723226070404,\n",
       "  0.2660467326641083,\n",
       "  0.19417724013328552,\n",
       "  0.15331624448299408,\n",
       "  0.12165645509958267,\n",
       "  0.10391609370708466,\n",
       "  0.07863912731409073,\n",
       "  0.06475472450256348,\n",
       "  0.053821876645088196,\n",
       "  0.03681624308228493,\n",
       "  0.03199765086174011,\n",
       "  0.022277705371379852,\n",
       "  0.011340867727994919,\n",
       "  0.023753758519887924,\n",
       "  0.005312921945005655,\n",
       "  0.019518835470080376,\n",
       "  0.002712807385250926,\n",
       "  0.012846500612795353,\n",
       "  0.0015296711353585124,\n",
       "  0.0010765785118564963],\n",
       " 'val_binary_accuracy': [0.8034999966621399,\n",
       "  0.8884000182151794,\n",
       "  0.8805999755859375,\n",
       "  0.8877999782562256,\n",
       "  0.8791000247001648,\n",
       "  0.8847000002861023,\n",
       "  0.8783000111579895,\n",
       "  0.8791000247001648,\n",
       "  0.8762999773025513,\n",
       "  0.8632000088691711,\n",
       "  0.8737000226974487,\n",
       "  0.8662999868392944,\n",
       "  0.8673999905586243,\n",
       "  0.8676000237464905,\n",
       "  0.8690000176429749,\n",
       "  0.8677999973297119,\n",
       "  0.8698999881744385,\n",
       "  0.8690999746322632,\n",
       "  0.8683000206947327,\n",
       "  0.8684999942779541],\n",
       " 'val_loss': [0.42741918563842773,\n",
       "  0.28920435905456543,\n",
       "  0.2930055260658264,\n",
       "  0.28419217467308044,\n",
       "  0.31567367911338806,\n",
       "  0.3206775486469269,\n",
       "  0.3601047396659851,\n",
       "  0.3733009099960327,\n",
       "  0.4040077030658722,\n",
       "  0.5089820027351379,\n",
       "  0.4734342694282532,\n",
       "  0.5502590537071228,\n",
       "  0.5511263012886047,\n",
       "  0.57776939868927,\n",
       "  0.6176896691322327,\n",
       "  0.6494433283805847,\n",
       "  0.6816657781600952,\n",
       "  0.7224611043930054,\n",
       "  0.7498160600662231,\n",
       "  0.8047187924385071]}"
      ]
     },
     "execution_count": 32,
     "metadata": {
      "tags": []
     },
     "output_type": "execute_result"
    }
   ],
   "source": [
    "history.history"
   ]
  },
  {
   "cell_type": "code",
   "execution_count": 33,
   "metadata": {
    "colab": {
     "base_uri": "https://localhost:8080/",
     "height": 295
    },
    "id": "_SsP4FMLqMfc",
    "outputId": "eee72640-a868-4a1d-db00-8a8029fc94bb"
   },
   "outputs": [
    {
     "data": {
      "image/png": "[encoded data removed]",
      "text/plain": [
       "<Figure size 432x288 with 1 Axes>"
      ]
     },
     "metadata": {
      "needs_background": "light",
      "tags": []
     },
     "output_type": "display_data"
    }
   ],
   "source": [
    "acc = history.history['binary_accuracy']#['acc']#['val_acc'] for keras 2.0\n",
    "val_acc = history.history['val_binary_accuracy']#['val_acc'] for keras 2.0\n",
    "loss = history.history['loss']\n",
    "val_loss = history.history['val_loss']\n",
    "\n",
    "epochs = range(1, len(acc) + 1)\n",
    "\n",
    "# \"bo\" is for \"blue dot\"\n",
    "plt.plot(epochs, loss, 'bo', label='Training loss')\n",
    "# b is for \"solid blue line\"\n",
    "plt.plot(epochs, val_loss, 'b', label='Validation loss')\n",
    "plt.title('Training and validation loss')\n",
    "plt.xlabel('Epochs')\n",
    "plt.ylabel('Loss')\n",
    "plt.legend()\n",
    "\n",
    "plt.show()"
   ]
  },
  {
   "cell_type": "code",
   "execution_count": 34,
   "metadata": {
    "colab": {
     "base_uri": "https://localhost:8080/",
     "height": 295
    },
    "id": "pElJqO3tqS9P",
    "outputId": "bcfc5789-3d76-43a3-fb34-e5a2d83399b3"
   },
   "outputs": [
    {
     "data": {
      "image/png": "[encoded data removed]",
      "text/plain": [
       "<Figure size 432x288 with 1 Axes>"
      ]
     },
     "metadata": {
      "needs_background": "light",
      "tags": []
     },
     "output_type": "display_data"
    }
   ],
   "source": [
    "plt.clf()   # clear figure\n",
    "acc_values = history_dict['binary_accuracy']#['acc']#['val_acc'] for keras 2.0\n",
    "val_acc_values = history_dict['val_binary_accuracy']#['val_acc'] for keras 2.0\n",
    "\n",
    "plt.plot(epochs, acc, 'bo', label='Training acc')\n",
    "plt.plot(epochs, val_acc, 'b', label='Validation acc')\n",
    "plt.title('Training and validation accuracy')\n",
    "plt.xlabel('Epochs')\n",
    "plt.ylabel('Loss')\n",
    "plt.legend()\n",
    "\n",
    "plt.show()"
   ]
  },
  {
   "cell_type": "code",
   "execution_count": 55,
   "metadata": {
    "colab": {
     "base_uri": "https://localhost:8080/"
    },
    "id": "bzslD8ohqXzq",
    "outputId": "353bc6f4-830a-4a9e-c3bb-c2217e00c53a"
   },
   "outputs": [
    {
     "name": "stdout",
     "output_type": "stream",
     "text": [
      "Epoch 1/4\n",
      "49/49 [==============================] - 2s 33ms/step - loss: 0.4355 - accuracy: 0.8190\n",
      "Epoch 2/4\n",
      "49/49 [==============================] - 2s 31ms/step - loss: 0.2456 - accuracy: 0.9073\n",
      "Epoch 3/4\n",
      "49/49 [==============================] - 2s 31ms/step - loss: 0.1895 - accuracy: 0.9304\n",
      "Epoch 4/4\n",
      "49/49 [==============================] - 2s 32ms/step - loss: 0.1555 - accuracy: 0.9445\n",
      "782/782 [==============================] - 2s 2ms/step - loss: 0.3208 - accuracy: 0.8759\n"
     ]
    }
   ],
   "source": [
    "model = models.Sequential()\n",
    "model.add(layers.Dense(32, activation='relu', input_shape=(10000,)))\n",
    "model.add(layers.Dense(32, activation='relu'))\n",
    "model.add(layers.Dense(1, activation='sigmoid'))\n",
    "\n",
    "model.compile(optimizer='rmsprop',\n",
    "              loss='binary_crossentropy',\n",
    "              metrics=['accuracy'])\n",
    "\n",
    "model.fit(x_train, y_train, epochs=4, batch_size=512)\n",
    "results = model.evaluate(x_test, y_test)"
   ]
  },
  {
   "cell_type": "code",
   "execution_count": 56,
   "metadata": {
    "colab": {
     "base_uri": "https://localhost:8080/"
    },
    "id": "-xVYYDkHqetu",
    "outputId": "396cc18d-6df4-41d1-9eaf-dd82c1b240e6"
   },
   "outputs": [
    {
     "data": {
      "text/plain": [
       "[0.320776104927063, 0.8759199976921082]"
      ]
     },
     "execution_count": 56,
     "metadata": {
      "tags": []
     },
     "output_type": "execute_result"
    }
   ],
   "source": [
    "results #exercise output"
   ]
  },
  {
   "cell_type": "markdown",
   "metadata": {
    "id": "EmYnvrLUqqdb"
   },
   "source": [
    "## using MSE instead binary_crossentropy\n"
   ]
  },
  {
   "cell_type": "code",
   "execution_count": 37,
   "metadata": {
    "id": "021_wRszq9N9"
   },
   "outputs": [],
   "source": [
    "model = models.Sequential()\n",
    "model.add(layers.Dense(32, activation='relu', input_shape=(10000,)))\n",
    "model.add(layers.Dense(32, activation='relu'))\n",
    "model.add(layers.Dense(1, activation='sigmoid'))"
   ]
  },
  {
   "cell_type": "code",
   "execution_count": 38,
   "metadata": {
    "id": "l6JJ_FMxrBjt"
   },
   "outputs": [],
   "source": [
    "model.compile(optimizer='rmsprop',\n",
    "              loss='mean_squared_error',\n",
    "              metrics=['accuracy'])"
   ]
  },
  {
   "cell_type": "code",
   "execution_count": 39,
   "metadata": {
    "id": "FaUMdH5KrLmg"
   },
   "outputs": [],
   "source": [
    "from keras import optimizers\n",
    "\n",
    "model.compile(optimizer=optimizers.RMSprop(lr=0.001),\n",
    "              loss='mean_squared_error',\n",
    "              metrics=['accuracy'])"
   ]
  },
  {
   "cell_type": "code",
   "execution_count": 44,
   "metadata": {
    "id": "b5FiLmUKr7Ru"
   },
   "outputs": [],
   "source": [
    "from keras import losses\n",
    "from keras import metrics\n",
    "\n",
    "model.compile(optimizer=optimizers.RMSprop(lr=0.001),\n",
    "              loss=losses.mean_squared_error,\n",
    "              metrics=[metrics.binary_accuracy])"
   ]
  },
  {
   "cell_type": "code",
   "execution_count": 45,
   "metadata": {
    "id": "59GN9j1XsZn2"
   },
   "outputs": [],
   "source": [
    "x_val = x_train[:10000]\n",
    "partial_x_train = x_train[10000:]\n",
    "\n",
    "y_val = y_train[:10000]\n",
    "partial_y_train = y_train[10000:]"
   ]
  },
  {
   "cell_type": "code",
   "execution_count": 46,
   "metadata": {
    "colab": {
     "base_uri": "https://localhost:8080/"
    },
    "id": "J_vV2XJ6tuN8",
    "outputId": "c9ef8a04-6d9e-4ef1-cafb-36685d10ccc4"
   },
   "outputs": [
    {
     "name": "stdout",
     "output_type": "stream",
     "text": [
      "Epoch 1/20\n",
      "30/30 [==============================] - 1s 48ms/step - loss: 0.0072 - binary_accuracy: 0.9919 - val_loss: 0.1139 - val_binary_accuracy: 0.8629\n",
      "Epoch 2/20\n",
      "30/30 [==============================] - 1s 38ms/step - loss: 0.0017 - binary_accuracy: 0.9983 - val_loss: 0.1144 - val_binary_accuracy: 0.8637\n",
      "Epoch 3/20\n",
      "30/30 [==============================] - 1s 39ms/step - loss: 0.0016 - binary_accuracy: 0.9984 - val_loss: 0.1153 - val_binary_accuracy: 0.8637\n",
      "Epoch 4/20\n",
      "30/30 [==============================] - 1s 38ms/step - loss: 0.0045 - binary_accuracy: 0.9950 - val_loss: 0.1167 - val_binary_accuracy: 0.8604\n",
      "Epoch 5/20\n",
      "30/30 [==============================] - 1s 39ms/step - loss: 0.0014 - binary_accuracy: 0.9986 - val_loss: 0.1162 - val_binary_accuracy: 0.8630\n",
      "Epoch 6/20\n",
      "30/30 [==============================] - 1s 39ms/step - loss: 0.0014 - binary_accuracy: 0.9986 - val_loss: 0.1173 - val_binary_accuracy: 0.8614\n",
      "Epoch 7/20\n",
      "30/30 [==============================] - 1s 39ms/step - loss: 0.0042 - binary_accuracy: 0.9953 - val_loss: 0.1169 - val_binary_accuracy: 0.8614\n",
      "Epoch 8/20\n",
      "30/30 [==============================] - 1s 38ms/step - loss: 0.0014 - binary_accuracy: 0.9987 - val_loss: 0.1173 - val_binary_accuracy: 0.8623\n",
      "Epoch 9/20\n",
      "30/30 [==============================] - 1s 38ms/step - loss: 0.0013 - binary_accuracy: 0.9987 - val_loss: 0.1180 - val_binary_accuracy: 0.8608\n",
      "Epoch 10/20\n",
      "30/30 [==============================] - 1s 39ms/step - loss: 0.0013 - binary_accuracy: 0.9987 - val_loss: 0.1181 - val_binary_accuracy: 0.8615\n",
      "Epoch 11/20\n",
      "30/30 [==============================] - 1s 39ms/step - loss: 0.0051 - binary_accuracy: 0.9937 - val_loss: 0.1184 - val_binary_accuracy: 0.8600\n",
      "Epoch 12/20\n",
      "30/30 [==============================] - 1s 38ms/step - loss: 0.0013 - binary_accuracy: 0.9987 - val_loss: 0.1186 - val_binary_accuracy: 0.8602\n",
      "Epoch 13/20\n",
      "30/30 [==============================] - 1s 39ms/step - loss: 0.0013 - binary_accuracy: 0.9987 - val_loss: 0.1190 - val_binary_accuracy: 0.8605\n",
      "Epoch 14/20\n",
      "30/30 [==============================] - 1s 38ms/step - loss: 0.0013 - binary_accuracy: 0.9987 - val_loss: 0.1186 - val_binary_accuracy: 0.8621\n",
      "Epoch 15/20\n",
      "30/30 [==============================] - 1s 39ms/step - loss: 0.0013 - binary_accuracy: 0.9987 - val_loss: 0.1211 - val_binary_accuracy: 0.8604\n",
      "Epoch 16/20\n",
      "30/30 [==============================] - 1s 39ms/step - loss: 0.0039 - binary_accuracy: 0.9953 - val_loss: 0.1207 - val_binary_accuracy: 0.8625\n",
      "Epoch 17/20\n",
      "30/30 [==============================] - 1s 38ms/step - loss: 0.0012 - binary_accuracy: 0.9987 - val_loss: 0.1203 - val_binary_accuracy: 0.8625\n",
      "Epoch 18/20\n",
      "30/30 [==============================] - 1s 39ms/step - loss: 0.0012 - binary_accuracy: 0.9988 - val_loss: 0.1205 - val_binary_accuracy: 0.8622\n",
      "Epoch 19/20\n",
      "30/30 [==============================] - 1s 39ms/step - loss: 0.0012 - binary_accuracy: 0.9988 - val_loss: 0.1207 - val_binary_accuracy: 0.8619\n",
      "Epoch 20/20\n",
      "30/30 [==============================] - 1s 38ms/step - loss: 0.0012 - binary_accuracy: 0.9988 - val_loss: 0.1207 - val_binary_accuracy: 0.8627\n"
     ]
    }
   ],
   "source": [
    "history = model.fit(partial_x_train,\n",
    "                    partial_y_train,\n",
    "                    epochs=20,\n",
    "                    batch_size=512,\n",
    "                    validation_data=(x_val, y_val))"
   ]
  },
  {
   "cell_type": "code",
   "execution_count": 47,
   "metadata": {
    "colab": {
     "base_uri": "https://localhost:8080/"
    },
    "id": "6B3x09OjqptJ",
    "outputId": "b7da9d58-8ebe-45df-ab7f-7868a155d9a3"
   },
   "outputs": [
    {
     "data": {
      "text/plain": [
       "dict_keys(['loss', 'binary_accuracy', 'val_loss', 'val_binary_accuracy'])"
      ]
     },
     "execution_count": 47,
     "metadata": {
      "tags": []
     },
     "output_type": "execute_result"
    }
   ],
   "source": [
    "history_dict = history.history\n",
    "history_dict.keys()"
   ]
  },
  {
   "cell_type": "code",
   "execution_count": 48,
   "metadata": {
    "colab": {
     "base_uri": "https://localhost:8080/"
    },
    "id": "iFDMpE93u_ZZ",
    "outputId": "40905282-5adb-48c4-eb04-73d98c47006c"
   },
   "outputs": [
    {
     "data": {
      "text/plain": [
       "{'binary_accuracy': [0.9919333457946777,\n",
       "  0.9983333349227905,\n",
       "  0.9983999729156494,\n",
       "  0.9950000047683716,\n",
       "  0.9986000061035156,\n",
       "  0.9986000061035156,\n",
       "  0.9953333139419556,\n",
       "  0.9986666440963745,\n",
       "  0.9986666440963745,\n",
       "  0.9986666440963745,\n",
       "  0.9937333464622498,\n",
       "  0.9987333416938782,\n",
       "  0.9987333416938782,\n",
       "  0.9987333416938782,\n",
       "  0.9987333416938782,\n",
       "  0.9953333139419556,\n",
       "  0.9987333416938782,\n",
       "  0.9987999796867371,\n",
       "  0.9987999796867371,\n",
       "  0.9987999796867371],\n",
       " 'loss': [0.0072037470526993275,\n",
       "  0.0017154838424175978,\n",
       "  0.001584723824635148,\n",
       "  0.004548508208245039,\n",
       "  0.001428650808520615,\n",
       "  0.001419171690940857,\n",
       "  0.0041659120470285416,\n",
       "  0.0013510588323697448,\n",
       "  0.0013447613455355167,\n",
       "  0.0013392067048698664,\n",
       "  0.0051421234384179115,\n",
       "  0.001278884126804769,\n",
       "  0.0012753993505612016,\n",
       "  0.0012723762774839997,\n",
       "  0.0012698430800810456,\n",
       "  0.0038540817331522703,\n",
       "  0.0012279687216505408,\n",
       "  0.0012066001072525978,\n",
       "  0.0012020952999591827,\n",
       "  0.0012011101935058832],\n",
       " 'val_binary_accuracy': [0.8629000186920166,\n",
       "  0.8636999726295471,\n",
       "  0.8636999726295471,\n",
       "  0.8604000210762024,\n",
       "  0.8629999756813049,\n",
       "  0.8614000082015991,\n",
       "  0.8614000082015991,\n",
       "  0.8622999787330627,\n",
       "  0.86080002784729,\n",
       "  0.8615000247955322,\n",
       "  0.8600000143051147,\n",
       "  0.8601999878883362,\n",
       "  0.8604999780654907,\n",
       "  0.8621000051498413,\n",
       "  0.8604000210762024,\n",
       "  0.862500011920929,\n",
       "  0.862500011920929,\n",
       "  0.8622000217437744,\n",
       "  0.8618999719619751,\n",
       "  0.8626999855041504],\n",
       " 'val_loss': [0.11386343836784363,\n",
       "  0.11443585157394409,\n",
       "  0.11528722941875458,\n",
       "  0.11666696518659592,\n",
       "  0.11622243374586105,\n",
       "  0.11729878932237625,\n",
       "  0.1169271245598793,\n",
       "  0.11725036799907684,\n",
       "  0.118003711104393,\n",
       "  0.11812656372785568,\n",
       "  0.11839715391397476,\n",
       "  0.11863040924072266,\n",
       "  0.11904167383909225,\n",
       "  0.11860951781272888,\n",
       "  0.12111254781484604,\n",
       "  0.12071313709020615,\n",
       "  0.12027940899133682,\n",
       "  0.12049775570631027,\n",
       "  0.12072132527828217,\n",
       "  0.12071801722049713]}"
      ]
     },
     "execution_count": 48,
     "metadata": {
      "tags": []
     },
     "output_type": "execute_result"
    }
   ],
   "source": [
    "history.history"
   ]
  },
  {
   "cell_type": "code",
   "execution_count": 49,
   "metadata": {
    "colab": {
     "base_uri": "https://localhost:8080/",
     "height": 295
    },
    "id": "XlkhAOmavERj",
    "outputId": "de410c5e-e2b2-4076-cc38-82470b374234"
   },
   "outputs": [
    {
     "data": {
      "image/png": "[encoded data removed]",
      "text/plain": [
       "<Figure size 432x288 with 1 Axes>"
      ]
     },
     "metadata": {
      "needs_background": "light",
      "tags": []
     },
     "output_type": "display_data"
    }
   ],
   "source": [
    "acc = history.history['binary_accuracy']#['acc']#['val_acc'] for keras 2.0\n",
    "val_acc = history.history['val_binary_accuracy']#['val_acc'] for keras 2.0\n",
    "loss = history.history['loss']\n",
    "val_loss = history.history['val_loss']\n",
    "\n",
    "epochs = range(1, len(acc) + 1)\n",
    "\n",
    "# \"bo\" is for \"blue dot\"\n",
    "plt.plot(epochs, loss, 'bo', label='Training loss')\n",
    "# b is for \"solid blue line\"\n",
    "plt.plot(epochs, val_loss, 'b', label='Validation loss')\n",
    "plt.title('Training and validation loss')\n",
    "plt.xlabel('Epochs')\n",
    "plt.ylabel('Loss')\n",
    "plt.legend()\n",
    "\n",
    "plt.show()"
   ]
  },
  {
   "cell_type": "code",
   "execution_count": 50,
   "metadata": {
    "colab": {
     "base_uri": "https://localhost:8080/",
     "height": 295
    },
    "id": "IqmGtCb9vJiK",
    "outputId": "64df5baf-310f-4a01-e683-fc99bcabbdc7"
   },
   "outputs": [
    {
     "data": {
      "image/png": "[encoded data removed]",
      "text/plain": [
       "<Figure size 432x288 with 1 Axes>"
      ]
     },
     "metadata": {
      "needs_background": "light",
      "tags": []
     },
     "output_type": "display_data"
    }
   ],
   "source": [
    "plt.clf()   # clear figure\n",
    "acc_values = history_dict['binary_accuracy']#['acc']#['val_acc'] for keras 2.0\n",
    "val_acc_values = history_dict['val_binary_accuracy']#['val_acc'] for keras 2.0\n",
    "\n",
    "plt.plot(epochs, acc, 'bo', label='Training acc')\n",
    "plt.plot(epochs, val_acc, 'b', label='Validation acc')\n",
    "plt.title('Training and validation accuracy')\n",
    "plt.xlabel('Epochs')\n",
    "plt.ylabel('Loss')\n",
    "plt.legend()\n",
    "\n",
    "plt.show()"
   ]
  },
  {
   "cell_type": "code",
   "execution_count": 53,
   "metadata": {
    "colab": {
     "base_uri": "https://localhost:8080/"
    },
    "id": "1zDdxmTVwG6u",
    "outputId": "12e79232-e517-4d74-cd7d-c9768de9f9c5"
   },
   "outputs": [
    {
     "name": "stdout",
     "output_type": "stream",
     "text": [
      "Epoch 1/4\n",
      "49/49 [==============================] - 2s 33ms/step - loss: 0.1347 - accuracy: 0.8302\n",
      "Epoch 2/4\n",
      "49/49 [==============================] - 2s 33ms/step - loss: 0.0710 - accuracy: 0.9134\n",
      "Epoch 3/4\n",
      "49/49 [==============================] - 2s 32ms/step - loss: 0.0554 - accuracy: 0.9333\n",
      "Epoch 4/4\n",
      "49/49 [==============================] - 2s 32ms/step - loss: 0.0448 - accuracy: 0.9450\n",
      "782/782 [==============================] - 1s 2ms/step - loss: 0.0879 - accuracy: 0.8804\n"
     ]
    }
   ],
   "source": [
    "model = models.Sequential()\n",
    "model.add(layers.Dense(32, activation='relu', input_shape=(10000,)))\n",
    "model.add(layers.Dense(32, activation='relu'))\n",
    "model.add(layers.Dense(1, activation='sigmoid'))\n",
    "\n",
    "model.compile(optimizer='rmsprop',\n",
    "              loss='mean_squared_error',\n",
    "              metrics=['accuracy'])\n",
    "\n",
    "model.fit(x_train, y_train, epochs=4, batch_size=512)\n",
    "results = model.evaluate(x_test, y_test)"
   ]
  },
  {
   "cell_type": "code",
   "execution_count": 54,
   "metadata": {
    "colab": {
     "base_uri": "https://localhost:8080/"
    },
    "id": "gMS4xG7HxkRG",
    "outputId": "b2d6da0e-2283-4f2c-d339-3fc14037be5c"
   },
   "outputs": [
    {
     "data": {
      "text/plain": [
       "[0.08786435425281525, 0.8803600072860718]"
      ]
     },
     "execution_count": 54,
     "metadata": {
      "tags": []
     },
     "output_type": "execute_result"
    }
   ],
   "source": [
    "results #exercise output"
   ]
  },
  {
   "cell_type": "markdown",
   "metadata": {
    "id": "V5BA6ynByHRo"
   },
   "source": [
    "## using tanh active function"
   ]
  },
  {
   "cell_type": "code",
   "execution_count": 57,
   "metadata": {
    "id": "fwdIjLO8yMLq"
   },
   "outputs": [],
   "source": [
    "model = models.Sequential()\n",
    "model.add(layers.Dense(32, activation='tanh', input_shape=(10000,)))\n",
    "model.add(layers.Dense(32, activation='tanh'))\n",
    "model.add(layers.Dense(1, activation='sigmoid'))"
   ]
  },
  {
   "cell_type": "code",
   "execution_count": 58,
   "metadata": {
    "id": "ONoO8ZVVyUj8"
   },
   "outputs": [],
   "source": [
    "model.compile(optimizer='rmsprop',\n",
    "              loss='binary_crossentropy',\n",
    "              metrics=['accuracy'])"
   ]
  },
  {
   "cell_type": "code",
   "execution_count": 59,
   "metadata": {
    "id": "dgesc84kzLl8"
   },
   "outputs": [],
   "source": [
    "from keras import optimizers\n",
    "\n",
    "model.compile(optimizer=optimizers.RMSprop(lr=0.001),\n",
    "              loss='binary_crossentropy',\n",
    "              metrics=['accuracy'])"
   ]
  },
  {
   "cell_type": "code",
   "execution_count": 60,
   "metadata": {
    "id": "JmWwoQoszUgZ"
   },
   "outputs": [],
   "source": [
    "from keras import losses\n",
    "from keras import metrics\n",
    "\n",
    "model.compile(optimizer=optimizers.RMSprop(lr=0.001),\n",
    "              loss=losses.binary_crossentropy,\n",
    "              metrics=[metrics.binary_accuracy])"
   ]
  },
  {
   "cell_type": "code",
   "execution_count": 61,
   "metadata": {
    "id": "tNTAgV1jzi4f"
   },
   "outputs": [],
   "source": [
    "x_val = x_train[:10000]\n",
    "partial_x_train = x_train[10000:]\n",
    "\n",
    "y_val = y_train[:10000]\n",
    "partial_y_train = y_train[10000:]"
   ]
  },
  {
   "cell_type": "code",
   "execution_count": 62,
   "metadata": {
    "colab": {
     "base_uri": "https://localhost:8080/"
    },
    "id": "qFkQl4fCzqlG",
    "outputId": "736d6e2d-dbf8-4889-fc61-8ff845369b09"
   },
   "outputs": [
    {
     "name": "stdout",
     "output_type": "stream",
     "text": [
      "Epoch 1/20\n",
      "30/30 [==============================] - 1s 49ms/step - loss: 0.4579 - binary_accuracy: 0.7922 - val_loss: 0.3476 - val_binary_accuracy: 0.8530\n",
      "Epoch 2/20\n",
      "30/30 [==============================] - 1s 40ms/step - loss: 0.2340 - binary_accuracy: 0.9119 - val_loss: 0.2697 - val_binary_accuracy: 0.8915\n",
      "Epoch 3/20\n",
      "30/30 [==============================] - 1s 40ms/step - loss: 0.1663 - binary_accuracy: 0.9405 - val_loss: 0.2870 - val_binary_accuracy: 0.8882\n",
      "Epoch 4/20\n",
      "30/30 [==============================] - 1s 40ms/step - loss: 0.1284 - binary_accuracy: 0.9539 - val_loss: 0.4955 - val_binary_accuracy: 0.8331\n",
      "Epoch 5/20\n",
      "30/30 [==============================] - 1s 40ms/step - loss: 0.1009 - binary_accuracy: 0.9635 - val_loss: 0.3749 - val_binary_accuracy: 0.8737\n",
      "Epoch 6/20\n",
      "30/30 [==============================] - 1s 39ms/step - loss: 0.0878 - binary_accuracy: 0.9681 - val_loss: 0.4094 - val_binary_accuracy: 0.8725\n",
      "Epoch 7/20\n",
      "30/30 [==============================] - 1s 39ms/step - loss: 0.0683 - binary_accuracy: 0.9769 - val_loss: 0.4443 - val_binary_accuracy: 0.8708\n",
      "Epoch 8/20\n",
      "30/30 [==============================] - 1s 39ms/step - loss: 0.0561 - binary_accuracy: 0.9819 - val_loss: 0.4870 - val_binary_accuracy: 0.8707\n",
      "Epoch 9/20\n",
      "30/30 [==============================] - 1s 40ms/step - loss: 0.0550 - binary_accuracy: 0.9837 - val_loss: 0.5339 - val_binary_accuracy: 0.8687\n",
      "Epoch 10/20\n",
      "30/30 [==============================] - 1s 40ms/step - loss: 0.0240 - binary_accuracy: 0.9937 - val_loss: 0.6588 - val_binary_accuracy: 0.8495\n",
      "Epoch 11/20\n",
      "30/30 [==============================] - 1s 40ms/step - loss: 0.0113 - binary_accuracy: 0.9984 - val_loss: 0.6329 - val_binary_accuracy: 0.8673\n",
      "Epoch 12/20\n",
      "30/30 [==============================] - 1s 40ms/step - loss: 0.0333 - binary_accuracy: 0.9899 - val_loss: 0.6639 - val_binary_accuracy: 0.8674\n",
      "Epoch 13/20\n",
      "30/30 [==============================] - 1s 40ms/step - loss: 0.0133 - binary_accuracy: 0.9969 - val_loss: 0.9457 - val_binary_accuracy: 0.8349\n",
      "Epoch 14/20\n",
      "30/30 [==============================] - 1s 40ms/step - loss: 0.0067 - binary_accuracy: 0.9984 - val_loss: 0.7404 - val_binary_accuracy: 0.8633\n",
      "Epoch 15/20\n",
      "30/30 [==============================] - 1s 40ms/step - loss: 0.0432 - binary_accuracy: 0.9907 - val_loss: 0.7915 - val_binary_accuracy: 0.8623\n",
      "Epoch 16/20\n",
      "30/30 [==============================] - 1s 40ms/step - loss: 0.0018 - binary_accuracy: 0.9997 - val_loss: 0.8021 - val_binary_accuracy: 0.8620\n",
      "Epoch 17/20\n",
      "30/30 [==============================] - 1s 40ms/step - loss: 9.0447e-04 - binary_accuracy: 0.9999 - val_loss: 0.8408 - val_binary_accuracy: 0.8595\n",
      "Epoch 18/20\n",
      "30/30 [==============================] - 1s 40ms/step - loss: 0.0295 - binary_accuracy: 0.9940 - val_loss: 0.9124 - val_binary_accuracy: 0.8579\n",
      "Epoch 19/20\n",
      "30/30 [==============================] - 1s 40ms/step - loss: 7.5621e-04 - binary_accuracy: 0.9999 - val_loss: 0.9145 - val_binary_accuracy: 0.8603\n",
      "Epoch 20/20\n",
      "30/30 [==============================] - 1s 40ms/step - loss: 3.1377e-04 - binary_accuracy: 1.0000 - val_loss: 0.9351 - val_binary_accuracy: 0.8598\n"
     ]
    }
   ],
   "source": [
    "history = model.fit(partial_x_train,\n",
    "                    partial_y_train,\n",
    "                    epochs=20,\n",
    "                    batch_size=512,\n",
    "                    validation_data=(x_val, y_val))"
   ]
  },
  {
   "cell_type": "code",
   "execution_count": 63,
   "metadata": {
    "colab": {
     "base_uri": "https://localhost:8080/"
    },
    "id": "j_-xWp5Zzull",
    "outputId": "b75eab57-31b3-4b9a-9d46-acaf7a1622cf"
   },
   "outputs": [
    {
     "data": {
      "text/plain": [
       "dict_keys(['loss', 'binary_accuracy', 'val_loss', 'val_binary_accuracy'])"
      ]
     },
     "execution_count": 63,
     "metadata": {
      "tags": []
     },
     "output_type": "execute_result"
    }
   ],
   "source": [
    "history_dict = history.history\n",
    "history_dict.keys()"
   ]
  },
  {
   "cell_type": "code",
   "execution_count": 64,
   "metadata": {
    "colab": {
     "base_uri": "https://localhost:8080/"
    },
    "id": "idw8aCcG0Fzk",
    "outputId": "6949785d-673a-4771-81b0-f16aeadf5f60"
   },
   "outputs": [
    {
     "data": {
      "text/plain": [
       "{'binary_accuracy': [0.7922000288963318,\n",
       "  0.9119333624839783,\n",
       "  0.9405333399772644,\n",
       "  0.9538666605949402,\n",
       "  0.9634666442871094,\n",
       "  0.9680666923522949,\n",
       "  0.9769333600997925,\n",
       "  0.9818666577339172,\n",
       "  0.9837333559989929,\n",
       "  0.9936666488647461,\n",
       "  0.9983999729156494,\n",
       "  0.9898666739463806,\n",
       "  0.9968666434288025,\n",
       "  0.9983999729156494,\n",
       "  0.9907333254814148,\n",
       "  0.9997333288192749,\n",
       "  0.9999333620071411,\n",
       "  0.9940000176429749,\n",
       "  0.9999333620071411,\n",
       "  1.0],\n",
       " 'loss': [0.45794981718063354,\n",
       "  0.23402664065361023,\n",
       "  0.1662837415933609,\n",
       "  0.12838603556156158,\n",
       "  0.10094550997018814,\n",
       "  0.08780309557914734,\n",
       "  0.06826620548963547,\n",
       "  0.05610377714037895,\n",
       "  0.054976679384708405,\n",
       "  0.02400992624461651,\n",
       "  0.011268854141235352,\n",
       "  0.03333878517150879,\n",
       "  0.013339241966605186,\n",
       "  0.006740485318005085,\n",
       "  0.043176863342523575,\n",
       "  0.001821911078877747,\n",
       "  0.0009044696344062686,\n",
       "  0.0295402891933918,\n",
       "  0.0007562126847915351,\n",
       "  0.0003137744788546115],\n",
       " 'val_binary_accuracy': [0.8529999852180481,\n",
       "  0.8914999961853027,\n",
       "  0.8881999850273132,\n",
       "  0.8331000208854675,\n",
       "  0.8737000226974487,\n",
       "  0.8725000023841858,\n",
       "  0.8708000183105469,\n",
       "  0.8707000017166138,\n",
       "  0.8687000274658203,\n",
       "  0.8495000004768372,\n",
       "  0.8672999739646912,\n",
       "  0.8673999905586243,\n",
       "  0.8349000215530396,\n",
       "  0.8633000254631042,\n",
       "  0.8622999787330627,\n",
       "  0.8619999885559082,\n",
       "  0.859499990940094,\n",
       "  0.8579000234603882,\n",
       "  0.8603000044822693,\n",
       "  0.8597999811172485],\n",
       " 'val_loss': [0.34760862588882446,\n",
       "  0.2697395086288452,\n",
       "  0.28701379895210266,\n",
       "  0.49552011489868164,\n",
       "  0.37490758299827576,\n",
       "  0.4094294309616089,\n",
       "  0.4443477392196655,\n",
       "  0.48702749609947205,\n",
       "  0.5338819026947021,\n",
       "  0.6588202118873596,\n",
       "  0.6328528523445129,\n",
       "  0.6639289855957031,\n",
       "  0.9456918835639954,\n",
       "  0.7404106259346008,\n",
       "  0.7915101647377014,\n",
       "  0.8021324872970581,\n",
       "  0.8407570123672485,\n",
       "  0.9123668074607849,\n",
       "  0.9145058393478394,\n",
       "  0.9350699186325073]}"
      ]
     },
     "execution_count": 64,
     "metadata": {
      "tags": []
     },
     "output_type": "execute_result"
    }
   ],
   "source": [
    "history.history"
   ]
  },
  {
   "cell_type": "code",
   "execution_count": 65,
   "metadata": {
    "colab": {
     "base_uri": "https://localhost:8080/",
     "height": 295
    },
    "id": "9cFnd_D80Kqq",
    "outputId": "8992fa59-0bf3-4130-cdee-99c2b7f348cc"
   },
   "outputs": [
    {
     "data": {
      "image/png": "[encoded data removed]",
      "text/plain": [
       "<Figure size 432x288 with 1 Axes>"
      ]
     },
     "metadata": {
      "needs_background": "light",
      "tags": []
     },
     "output_type": "display_data"
    }
   ],
   "source": [
    "acc = history.history['binary_accuracy']#['acc']#['val_acc'] for keras 2.0\n",
    "val_acc = history.history['val_binary_accuracy']#['val_acc'] for keras 2.0\n",
    "loss = history.history['loss']\n",
    "val_loss = history.history['val_loss']\n",
    "\n",
    "epochs = range(1, len(acc) + 1)\n",
    "\n",
    "# \"bo\" is for \"blue dot\"\n",
    "plt.plot(epochs, loss, 'bo', label='Training loss')\n",
    "# b is for \"solid blue line\"\n",
    "plt.plot(epochs, val_loss, 'b', label='Validation loss')\n",
    "plt.title('Training and validation loss')\n",
    "plt.xlabel('Epochs')\n",
    "plt.ylabel('Loss')\n",
    "plt.legend()\n",
    "\n",
    "plt.show()"
   ]
  },
  {
   "cell_type": "code",
   "execution_count": 66,
   "metadata": {
    "colab": {
     "base_uri": "https://localhost:8080/",
     "height": 295
    },
    "id": "czrv6Wo70iD6",
    "outputId": "e0369c01-0ddf-4ebe-9309-cf69368d962e"
   },
   "outputs": [
    {
     "data": {
      "image/png": "[encoded data removed]",
      "text/plain": [
       "<Figure size 432x288 with 1 Axes>"
      ]
     },
     "metadata": {
      "needs_background": "light",
      "tags": []
     },
     "output_type": "display_data"
    }
   ],
   "source": [
    "plt.clf()   # clear figure\n",
    "acc_values = history_dict['binary_accuracy']#['acc']#['val_acc'] for keras 2.0\n",
    "val_acc_values = history_dict['val_binary_accuracy']#['val_acc'] for keras 2.0\n",
    "\n",
    "plt.plot(epochs, acc, 'bo', label='Training acc')\n",
    "plt.plot(epochs, val_acc, 'b', label='Validation acc')\n",
    "plt.title('Training and validation accuracy')\n",
    "plt.xlabel('Epochs')\n",
    "plt.ylabel('Loss')\n",
    "plt.legend()\n",
    "\n",
    "plt.show()"
   ]
  },
  {
   "cell_type": "code",
   "execution_count": 67,
   "metadata": {
    "colab": {
     "base_uri": "https://localhost:8080/"
    },
    "id": "dcg6yT9-0qIl",
    "outputId": "3d3fa3d7-38f0-4213-e510-b70ca4c756c4"
   },
   "outputs": [
    {
     "name": "stdout",
     "output_type": "stream",
     "text": [
      "Epoch 1/4\n",
      "49/49 [==============================] - 2s 33ms/step - loss: 0.3979 - accuracy: 0.8305\n",
      "Epoch 2/4\n",
      "49/49 [==============================] - 2s 32ms/step - loss: 0.2207 - accuracy: 0.9151\n",
      "Epoch 3/4\n",
      "49/49 [==============================] - 2s 33ms/step - loss: 0.1723 - accuracy: 0.9358\n",
      "Epoch 4/4\n",
      "49/49 [==============================] - 2s 33ms/step - loss: 0.1474 - accuracy: 0.9461\n",
      "782/782 [==============================] - 2s 2ms/step - loss: 0.3791 - accuracy: 0.8629\n"
     ]
    }
   ],
   "source": [
    "model = models.Sequential()\n",
    "model.add(layers.Dense(32, activation='tanh', input_shape=(10000,)))\n",
    "model.add(layers.Dense(32, activation='tanh'))\n",
    "model.add(layers.Dense(1, activation='sigmoid'))\n",
    "\n",
    "model.compile(optimizer='rmsprop',\n",
    "              loss='binary_crossentropy',\n",
    "              metrics=['accuracy'])\n",
    "\n",
    "model.fit(x_train, y_train, epochs=4, batch_size=512)\n",
    "results = model.evaluate(x_test, y_test)"
   ]
  },
  {
   "cell_type": "code",
   "execution_count": 68,
   "metadata": {
    "colab": {
     "base_uri": "https://localhost:8080/"
    },
    "id": "MTfX-PQw072A",
    "outputId": "b570582b-3fe2-4b7e-98f9-c1259cdcd2d0"
   },
   "outputs": [
    {
     "data": {
      "text/plain": [
       "[0.3790813982486725, 0.8628799915313721]"
      ]
     },
     "execution_count": 68,
     "metadata": {
      "tags": []
     },
     "output_type": "execute_result"
    }
   ],
   "source": [
    "results #exercise output"
   ]
  }
 ],
 "metadata": {
  "colab": {
   "name": "3.4-classifying-movie-reviews.ipynb",
   "provenance": []
  },
  "kernelspec": {
   "display_name": "Python 3",
   "language": "python",
   "name": "python3"
  },
  "language_info": {
   "codemirror_mode": {
    "name": "ipython",
    "version": 3
   },
   "file_extension": ".py",
   "mimetype": "text/x-python",
   "name": "python",
   "nbconvert_exporter": "python",
   "pygments_lexer": "ipython3",
   "version": "3.7.3"
  }
 },
 "nbformat": 4,
 "nbformat_minor": 1
}
