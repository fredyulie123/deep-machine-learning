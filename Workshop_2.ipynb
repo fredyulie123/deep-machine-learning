{
  "nbformat": 4,
  "nbformat_minor": 0,
  "metadata": {
    "accelerator": "GPU",
    "colab": {
      "name": "Workshop 2.ipynb",
      "provenance": [],
      "collapsed_sections": []
    },
    "kernelspec": {
      "display_name": "Python 3",
      "language": "python",
      "name": "python3"
    },
    "language_info": {
      "codemirror_mode": {
        "name": "ipython",
        "version": 3
      },
      "file_extension": ".py",
      "mimetype": "text/x-python",
      "name": "python",
      "nbconvert_exporter": "python",
      "pygments_lexer": "ipython3",
      "version": "3.7.6"
    }
  },
  "cells": [
    {
      "cell_type": "markdown",
      "metadata": {
        "id": "6zm08-HEft6z"
      },
      "source": [
        "# **Volatility Forecasting by LSTM_Part 2**\n",
        "\n",
        "\n",
        "---\n",
        "\n"
      ]
    },
    {
      "cell_type": "markdown",
      "metadata": {
        "id": "vupEo5sKf2-7"
      },
      "source": [
        "## **Introduction**\n",
        "<p>The dataset  includes 28 assets from the Dow Jones Industrial Average (DJIA). It also includes an exchange-traded fund, SPY, that tracks the S&P 500 index. The data ranges from January 1, 2002, to August 31, 2008, and is made up of 1,640 samples. For each asset, data concerning the open-close returns and the realized volatility is available. The realized measure of volatility that we used is given by a realized kernel that was introduced by Barndorff-Nielsen et al. (2008). The realized kernel yields a more robust estimation of volatility even in the presence of noise. Also, it was implemented as proposed by Barndorff-Nielsen et al. (2011) to guarantee positive values.\n",
        "<p>This dataset is available on Blackboard and in this book's repository at the following link: https:/ / github.\n",
        "com/ PacktPublishing/ Hands- On- Deep- Learning- for- Finance. It can be loaded easily\n",
        "using the pandas library.\n"
      ]
    },
    {
      "cell_type": "markdown",
      "metadata": {
        "id": "QCKABfGvgCBD"
      },
      "source": [
        "**Step 1:** Import Libraries"
      ]
    },
    {
      "cell_type": "code",
      "metadata": {
        "id": "kT0DidRm2Ccw"
      },
      "source": [
        "# Import libraries\n",
        "import os\n",
        "from tensorflow.keras.models import Sequential\n",
        "from tensorflow.keras.layers import Dense, LSTM, Dropout, SimpleRNN\n",
        "import tensorflow.keras.backend as K\n",
        "from tensorflow.keras import regularizers\n",
        "from tensorflow.keras import models\n",
        "\n",
        "\n",
        "import numpy as np\n",
        "import matplotlib.pyplot as plt\n",
        "import pandas as pd"
      ],
      "execution_count": 1,
      "outputs": []
    },
    {
      "cell_type": "markdown",
      "metadata": {
        "id": "aVEJV8kBgH3o"
      },
      "source": [
        "**Step 2:** (for Google colab users only)"
      ]
    },
    {
      "cell_type": "code",
      "metadata": {
        "colab": {
          "base_uri": "https://localhost:8080/"
        },
        "id": "NJ1msxtv3E4x",
        "outputId": "0e8c1246-3d63-429a-81e2-5a80e08d5448"
      },
      "source": [
        "#Drive mount:\n",
        "from google.colab import drive\n",
        "drive.mount(\"/content/drive\")"
      ],
      "execution_count": 2,
      "outputs": [
        {
          "output_type": "stream",
          "text": [
            "Mounted at /content/drive\n"
          ],
          "name": "stdout"
        }
      ]
    },
    {
      "cell_type": "markdown",
      "metadata": {
        "id": "a7OMVZHRgO8k"
      },
      "source": [
        "**Step 3 (for Tensorflow GPU users only, if you use CPU you can pass):**"
      ]
    },
    {
      "cell_type": "code",
      "metadata": {
        "id": "T12v5l4b2D6V"
      },
      "source": [
        "# Set GPU device\n",
        "os.environ[\"CUDA_DEVICE_ORDER\"]=\"PCI_BUS_ID\"\n",
        "os.environ[\"CUDA_VISIBLE_DEVICES\"]=\"\""
      ],
      "execution_count": 3,
      "outputs": []
    },
    {
      "cell_type": "markdown",
      "metadata": {
        "id": "fjmM7lpUgSfY"
      },
      "source": [
        "**Step 4:** Define the data_folder variable as the path to the folder with the 28 datasets. Your path might be different from mine. "
      ]
    },
    {
      "cell_type": "code",
      "metadata": {
        "id": "w32tM-nL25so"
      },
      "source": [
        "# Variable definition\n",
        "data_folder = '/content/drive/My Drive/drive/Data' # Folder containing the dataset\n",
        "n_days = 1640"
      ],
      "execution_count": 4,
      "outputs": []
    },
    {
      "cell_type": "markdown",
      "metadata": {
        "id": "4XnRsM3-gZXO"
      },
      "source": [
        "**Step 5:** Now, we will load the dataset step-by-step:"
      ]
    },
    {
      "cell_type": "code",
      "metadata": {
        "id": "BbP4C5He27y3"
      },
      "source": [
        "# Preallocate the array\n",
        "dataset = np.empty((n_days, 0))\n",
        "\n",
        "# Create list to save assets names\n",
        "assets = []\n",
        "for f in sorted(os.listdir(data_folder)):\n",
        "\n",
        "    # Save assets names\n",
        "    assets.append(f.replace('.csv', ''))\n",
        "\n",
        "    # Load data\n",
        "    asset = pd.read_csv(data_folder +'/'+ f, sep=',', usecols=[2, 3], engine='python')\n",
        "    asset = asset.values[:n_days]\n",
        " \n",
        "    # Ensure all data is float\n",
        "    asset = asset.astype('float32')\n",
        "    dataset = np.append(dataset, asset, axis=1)"
      ],
      "execution_count": 6,
      "outputs": []
    },
    {
      "cell_type": "code",
      "metadata": {
        "colab": {
          "base_uri": "https://localhost:8080/"
        },
        "id": "kBszck7YWydb",
        "outputId": "2bbb53eb-63f9-474d-93b2-8cf04c942fb8"
      },
      "source": [
        "dataset[0].shape"
      ],
      "execution_count": 7,
      "outputs": [
        {
          "output_type": "execute_result",
          "data": {
            "text/plain": [
              "(58,)"
            ]
          },
          "metadata": {
            "tags": []
          },
          "execution_count": 7
        }
      ]
    },
    {
      "cell_type": "code",
      "metadata": {
        "colab": {
          "base_uri": "https://localhost:8080/"
        },
        "id": "KJ8ykJzpXSHr",
        "outputId": "c9a589a4-dc6d-4156-de97-3703c9983290"
      },
      "source": [
        "len(assets)"
      ],
      "execution_count": 8,
      "outputs": [
        {
          "output_type": "execute_result",
          "data": {
            "text/plain": [
              "29"
            ]
          },
          "metadata": {
            "tags": []
          },
          "execution_count": 8
        }
      ]
    },
    {
      "cell_type": "markdown",
      "metadata": {
        "id": "UFuYljEZgezr"
      },
      "source": [
        "**Step 6:** Let’s now plot the returns and volatility related to the first assets in our dataset"
      ]
    },
    {
      "cell_type": "code",
      "metadata": {
        "colab": {
          "base_uri": "https://localhost:8080/",
          "height": 295
        },
        "id": "CtKdxGZO3Xh8",
        "outputId": "3bc36b80-6348-4939-e055-d6e353df41a9"
      },
      "source": [
        "# Visualize returns and volatility of the first asset\n",
        "i = 0\n",
        "plt.plot(dataset[:, 0], label='returns')\n",
        "plt.plot(dataset[:, 1], label='volatility')\n",
        "plt.legend()\n",
        "plt.title('Yifeng He ' + assets[0] + ' returns and volatility')\n",
        "plt.xlabel('Time (days)')\n",
        "plt.show()"
      ],
      "execution_count": 10,
      "outputs": [
        {
          "output_type": "display_data",
          "data": {
            "image/png": "[encoded data removed]",
            "text/plain": [
              "<Figure size 432x288 with 1 Axes>"
            ]
          },
          "metadata": {
            "tags": [],
            "needs_background": "light"
          }
        }
      ]
    },
    {
      "cell_type": "markdown",
      "metadata": {
        "id": "3xurCRHKghqq"
      },
      "source": [
        "We can see from the preceding diagram how the volatility only takes positive values."
      ]
    },
    {
      "cell_type": "markdown",
      "metadata": {
        "id": "RgtK57YZgjnj"
      },
      "source": [
        "## **Data Preparation**"
      ]
    },
    {
      "cell_type": "markdown",
      "metadata": {
        "id": "r9iXTV9ygwAb"
      },
      "source": [
        "<p>Before defining and training the model, we need to prepare the dataset. This includes the\n",
        "standardization of time series data, setting up a supervised learning problem, and splitting the data into training and testing datasets.\n",
        "<p>Standardization consists of transforming a variable to have zero mean and unit variance by removing the mean and dividing it by the standard deviation. This process generates standard scores, which each represent the number of standard deviations that a specific observation is above or below the mean.\n",
        "Since we expect the returns to have zero mean in the long term and the volatility to always be positive, we standardize both the returns and the volatilities by dividing them directly by the positive square root of the second raw moment.\n",
        "<p>The raw moments are expressed by M_n=E[(X)^n ], where n is the corresponding order.\n",
        "<p>The resulting values are then further divided by a factor of two to get at least 95% of samples within the range [-1,+1]. This is necessary when using the default hyperbolic tangent (tanh) activation function in the LSTM units to avoid saturation and the possible non-convergence of the model.\n"
      ]
    },
    {
      "cell_type": "markdown",
      "metadata": {
        "id": "9Mny5bkHg4YD"
      },
      "source": [
        "**Step 7:** The following code calculates the second raw moment for each input feature of the dataset and then scales the features, as explained previously:"
      ]
    },
    {
      "cell_type": "code",
      "metadata": {
        "id": "eHC26Jt-3hO7"
      },
      "source": [
        "# Normalize data\n",
        "factor = 2\n",
        "\n",
        "# Calculate second raw moment\n",
        "M2 = np.mean(dataset ** 2, axis=0) ** (1/2)\n",
        "\n",
        "# Apply scaling\n",
        "dataset_norm = (1/factor) * (dataset / M2)"
      ],
      "execution_count": 11,
      "outputs": []
    },
    {
      "cell_type": "markdown",
      "metadata": {
        "id": "UbfOD5kLg7XX"
      },
      "source": [
        "**Step 8:** The next step consists of transforming our dataset to get it ready for a supervised learning problem. We use a function that takes the dataset and the look-back as arguments and returns the input and target data for the LSTM model. The look-back is a hyperparameter that represents the number of previous time steps used to predict the next one. The function that we use creates sequences of a length that is equal to the look-back by moving one step ahead each time. These sequences correspond to the input data of the LSTM. It also associates each sequence with the observation at the next timestep, which represents the target of the model. The following code defines the function explained previously and applies it to our dataset by setting the look-back to 20 days, which is a common choice for this kind of analysis since 20 days are equivalent to one month. It is worth noting that we add to the target only the columns related to the volatility series, taking away those corresponding to the returns.\n",
        "<p>Then, we define the variables representing the number of input features (n_features) and the number of considered assets (n_assets) that will be used later:\n"
      ]
    },
    {
      "cell_type": "code",
      "metadata": {
        "id": "VM0QVJRm3kfP"
      },
      "source": [
        "def create_dataset(dataset, look_back=1):\n",
        "    \"\"\"\n",
        "    Function to convert series from dataset to supervised learning problem\n",
        "    \"\"\"\n",
        "    data_x, data_y = [], []\n",
        "\n",
        "    for i in range(len(dataset) - look_back):\n",
        "\n",
        "        # Create sequence of length equal to look_back\n",
        "        x = dataset[i:(i + look_back), :]\n",
        "        data_x.append(x)\n",
        "\n",
        "        # Take just the volatility for the target\n",
        "        data_y.append(dataset[i + look_back, 1::2])\n",
        "\n",
        "    return np.array(data_x), np.array(data_y)"
      ],
      "execution_count": 12,
      "outputs": []
    },
    {
      "cell_type": "code",
      "metadata": {
        "id": "auO3F0RX3mfd"
      },
      "source": [
        "# Convert series to supervised learning problem\n",
        "look_back = 20\n",
        "X, y = create_dataset(dataset_norm, look_back)\n",
        "\n",
        "# Declare variables\n",
        "n_features = dataset.shape[1]\n",
        "n_assets = y.shape[1]"
      ],
      "execution_count": 13,
      "outputs": []
    },
    {
      "cell_type": "code",
      "metadata": {
        "colab": {
          "base_uri": "https://localhost:8080/"
        },
        "id": "KOhjrrBlaFIt",
        "outputId": "26ee1640-4ffb-48ca-8876-663330d7540d"
      },
      "source": [
        "X.shape"
      ],
      "execution_count": 14,
      "outputs": [
        {
          "output_type": "execute_result",
          "data": {
            "text/plain": [
              "(1620, 20, 58)"
            ]
          },
          "metadata": {
            "tags": []
          },
          "execution_count": 14
        }
      ]
    },
    {
      "cell_type": "code",
      "metadata": {
        "colab": {
          "base_uri": "https://localhost:8080/"
        },
        "id": "dCvtqoaPYvVu",
        "outputId": "acf996da-44d0-4051-8df8-c9b6c5f22d04"
      },
      "source": [
        "y.shape"
      ],
      "execution_count": 15,
      "outputs": [
        {
          "output_type": "execute_result",
          "data": {
            "text/plain": [
              "(1620, 29)"
            ]
          },
          "metadata": {
            "tags": []
          },
          "execution_count": 15
        }
      ]
    },
    {
      "cell_type": "markdown",
      "metadata": {
        "id": "tgRmg5LYhDjx"
      },
      "source": [
        "**Step 9:** Finally, we split the dataset into the training set and the testing set. We will use the data that corresponds to the initial 300 days to fit the model, and then we will evaluate the trained model on the remaining days. The following code splits the dataset and then reshapes the input features so that they have the 3D tensor shape required by the LSTM:"
      ]
    },
    {
      "cell_type": "code",
      "metadata": {
        "id": "-Qr66e3f3np8"
      },
      "source": [
        "# Split dataset\n",
        "training_days = 300\n",
        "X_train, X_test = X[:training_days], X[training_days:]\n",
        "y_train, y_test = y[:training_days], y[training_days:]\n",
        "\n",
        "# Prepare the 3D input vector for the LSTM\n",
        "X_train = np.reshape(X_train, (-1, look_back, n_features))\n",
        "X_test = np.reshape(X_test, (-1, look_back, n_features))"
      ],
      "execution_count": 16,
      "outputs": []
    },
    {
      "cell_type": "code",
      "metadata": {
        "colab": {
          "base_uri": "https://localhost:8080/"
        },
        "id": "vav1iYSQccAQ",
        "outputId": "70e34f2a-c92b-4173-f58e-92a147c35898"
      },
      "source": [
        "X_test.shape"
      ],
      "execution_count": 17,
      "outputs": [
        {
          "output_type": "execute_result",
          "data": {
            "text/plain": [
              "(1320, 20, 58)"
            ]
          },
          "metadata": {
            "tags": []
          },
          "execution_count": 17
        }
      ]
    },
    {
      "cell_type": "code",
      "metadata": {
        "colab": {
          "base_uri": "https://localhost:8080/"
        },
        "id": "_CFT-0_UabIv",
        "outputId": "1029001d-49dc-4c74-87f4-b09f1bba7a6e"
      },
      "source": [
        "X_train.shape"
      ],
      "execution_count": 18,
      "outputs": [
        {
          "output_type": "execute_result",
          "data": {
            "text/plain": [
              "(300, 20, 58)"
            ]
          },
          "metadata": {
            "tags": []
          },
          "execution_count": 18
        }
      ]
    },
    {
      "cell_type": "markdown",
      "metadata": {
        "id": "UL_pDj16hHjj"
      },
      "source": [
        "##Creating and fitting the model\n",
        "<p>As an input, the model takes the open-close returns and volatilities for a given past window. This is a sliding window containing past sequence values that have a fixed size expressed by the look_back hyperparameter. As an output, it provides the next one-step volatility, which is the volatility of the following day.\n",
        "<p>The network consists of a first LSTM hidden layer made of 58 units and a fully connected (dense) output layer with 29 neurons, according to the input and output dimensions respectively. We use a stateful  LSTM, which can compute and keep the internal state along with the whole dataset.</p>\n",
        "\n",
        "**Step 10:** We set the batch size to 1 since we will make one-step-ahead predictions on the testing set\n"
      ]
    },
    {
      "cell_type": "code",
      "metadata": {
        "id": "XvsK3AD63owd"
      },
      "source": [
        "batch_size = 1"
      ],
      "execution_count": 19,
      "outputs": []
    },
    {
      "cell_type": "markdown",
      "metadata": {
        "id": "_r_z9_jX-A--"
      },
      "source": [
        "# **Model 1 (Baseline Model):**"
      ]
    },
    {
      "cell_type": "markdown",
      "metadata": {
        "id": "-YTMdHs3hcbI"
      },
      "source": [
        "**Step 11:** Then, we define a sequential model by calling the .Sequential() method. After this, we\n",
        "can add layers to the model via the .add() method:\n"
      ]
    },
    {
      "cell_type": "code",
      "metadata": {
        "id": "26_ZuliDEOJO"
      },
      "source": [
        "# Create the model\n",
        "model = Sequential()"
      ],
      "execution_count": 20,
      "outputs": []
    },
    {
      "cell_type": "markdown",
      "metadata": {
        "id": "QPFnM1-hhghh"
      },
      "source": [
        "**Step 12:** LSTM layers can be created using the Keras LSTM() class. The LSTM layer constructor takes as arguments the number of units and the input shape (input_shape=(timesteps,input_dim)) because it is the first layer of our network. A stateful LSTM requires tospecify the batch size since it keeps information from one batch to the next and then it isnecessary to know the position of the samples within the batch. To enable statefulness, we must specify stateful=True in the layer constructor:"
      ]
    },
    {
      "cell_type": "code",
      "metadata": {
        "id": "HD_d9upGEOnk"
      },
      "source": [
        "model.add(LSTM(58,\n",
        "               input_shape=(look_back, n_features),\n",
        "               batch_size=batch_size,\n",
        "               stateful=True,\n",
        "               activity_regularizer=regularizers.l1_l2(),\n",
        "               recurrent_regularizer=regularizers.l1_l2()))"
      ],
      "execution_count": 21,
      "outputs": []
    },
    {
      "cell_type": "markdown",
      "metadata": {
        "id": "nptfqwvohkYT"
      },
      "source": [
        "**Step 13:** Regularization is important to deal with the undesired overfitting. We have included in the preceding implementation L1 and L2 regularization terms applied to the recurrent weights matrix (recurrent_regularizer) and the output (activity_regularizer) of the LSTM by using the regularizers.l1_l2() method. Then, we add a dropout layer to further reduce the overfitting. The Dropout() constructor takes as input the dropout rate, that is, the fraction of inputs set to 0 during training:"
      ]
    },
    {
      "cell_type": "code",
      "metadata": {
        "id": "4P2TBzfAEIeB"
      },
      "source": [
        "# add drop out:\n",
        "model.add(Dropout(0.2))"
      ],
      "execution_count": 22,
      "outputs": []
    },
    {
      "cell_type": "markdown",
      "metadata": {
        "id": "78kShcoshnlq"
      },
      "source": [
        "**Step 14:** The arguments of the output dense layer are the number of units and the non-linear activation function. We use the sigmoid in this first example by setting activation='sigmoid':"
      ]
    },
    {
      "cell_type": "code",
      "metadata": {
        "id": "bMpgZuU-EKIj"
      },
      "source": [
        "#sigmoid:\n",
        "model.add(Dense(n_assets, activation='sigmoid'))          "
      ],
      "execution_count": 23,
      "outputs": []
    },
    {
      "cell_type": "markdown",
      "metadata": {
        "id": "GBveeseVhpvI"
      },
      "source": [
        "**Step 15:** The next step is to compile the model by using the .compile() method. We use the Mean\n",
        "Square Error (MSE) as a loss function\n"
      ]
    },
    {
      "cell_type": "code",
      "metadata": {
        "id": "_ECdw0Wb3qr0"
      },
      "source": [
        "# Compile the LSTM model\n",
        "model.compile(loss='mse', optimizer='rmsprop')"
      ],
      "execution_count": 24,
      "outputs": []
    },
    {
      "cell_type": "markdown",
      "metadata": {
        "id": "dGmvOhn_h3z_"
      },
      "source": [
        "**Step 16**: We are now ready to train the network by applying the .fit() method to the model. We use 300 epochs for fitting, which is not to be confused with the 300 training days! Training a stateful LSTM requires resetting the model state after each epoch by calling .reset_states(). We can do this inside a loop by setting the hyperparameter of the epoch to 1. A stateful LSTM also requires us to specify shuffle=False when calling .fit() since it is important to preserve the temporal order of the samples. The batch_size hyperparameter is needed to indicate the number of samples required for the gradient update."
      ]
    },
    {
      "cell_type": "code",
      "metadata": {
        "id": "_MMRuOpN4xaf"
      },
      "source": [
        "num_epochs = 300\n",
        "\n",
        "# Fit the model\n",
        "for i in range(num_epochs):\n",
        "\n",
        "    model.fit(X_train,\n",
        "              y_train,\n",
        "              batch_size=batch_size,\n",
        "              shuffle=False,\n",
        "              epochs=1,\n",
        "              verbose=0) # Verbosity mode 0: silent\n",
        "\n",
        "    model.reset_states()"
      ],
      "execution_count": 25,
      "outputs": []
    },
    {
      "cell_type": "markdown",
      "metadata": {
        "id": "qCKm54ntiBJb"
      },
      "source": [
        "After a few minutes, our model will be trained. Please be patient with the training process since we are training 300 epochs, and with CPU it can take a long time. Once we have our LSTM model trained, it's time to evaluate it. How will it perform with new, unseen data?"
      ]
    },
    {
      "cell_type": "markdown",
      "metadata": {
        "id": "E6vPCTbTiFkO"
      },
      "source": [
        "## Evaluating the model\n",
        "**Step 17:** After training our model, we can now make predictions on the test dataset for an out-of sample evaluation. We apply a rolling forecast window to forecast the volatility every time one-step-ahead, using the new available information to predict the volatility of the next day, as we may often want to do in real life. Predictions in Keras are made using the .predict() method, which takes the test set and the batch size as input.\n",
        "<p>The following code makes the predictions on our test dataset, as explained previously:\n"
      ]
    },
    {
      "cell_type": "code",
      "metadata": {
        "id": "BBxYoCvC4yET"
      },
      "source": [
        "# Make a prediction (rolling test window)\n",
        "y_pred = np.empty((0, n_assets))\n",
        "\n",
        "for i in range(len(X_test)):\n",
        "    X_i = X_test[i].reshape(1, look_back, n_features)\n",
        "    predicted_output = model.predict(X_i, batch_size=batch_size)\n",
        "\n",
        "    # Reshape prediction to save into array\n",
        "    predicted_output = predicted_output.reshape(1, n_assets)\n",
        "    y_pred = np.append(y_pred, predicted_output, axis=0)\n",
        "\n",
        "y_pred = y_pred.reshape(-1, n_assets)\n",
        "y_true = y_test.reshape(-1, n_assets)"
      ],
      "execution_count": 26,
      "outputs": []
    },
    {
      "cell_type": "markdown",
      "metadata": {
        "id": "Qngtxl3ciLXZ"
      },
      "source": [
        "**Step 18:** Before calculating the error scores, we need to invert the standardization applied during the data preparation step to return the time series to their original scale. Remember that we now only have to revert the transformation on the volatility series, which is our target.\n",
        "<p>Hence, we modify the M2 variable to preserve the volatility moments and take away those corresponding to the open-close returns. We create a function to carry out this transformation, the arguments of which are the array to rescale, the moment array, and the multiplicative factor of the moment, as shown in the following code:\n"
      ]
    },
    {
      "cell_type": "code",
      "metadata": {
        "id": "e-3jHlYm4z-G"
      },
      "source": [
        "# Invert scaling\n",
        "def invert_standardization(data, M2, factor):  \n",
        "    # Consider just volatility series\n",
        "    M2 = M2[1::2]\n",
        "    data = factor * data * M2\n",
        "    return data\n",
        "\n",
        "# Apply inversion\n",
        "y_pred0 = invert_standardization(y_pred, M2, factor)\n",
        "y_true0 = invert_standardization(y_true, M2, factor)"
      ],
      "execution_count": 28,
      "outputs": []
    },
    {
      "cell_type": "markdown",
      "metadata": {
        "id": "FT3Eg_ETiUSo"
      },
      "source": [
        "**Step 19:** The following code defines a function to calculate the preceding measures with respect to the predicted and expected volatilities. This function returns the average for each stock in the dataset and saves the results point by point into a CSV file for further comparison. We can save the results by using the .savetxt() function from the NumPy library:"
      ]
    },
    {
      "cell_type": "code",
      "metadata": {
        "id": "U6XyfUaH41fE"
      },
      "source": [
        "def evaluate(y_true, y_pred):\n",
        "    \"\"\"\n",
        "    Function to calculate MSE and QLIKE\n",
        "    \"\"\"\n",
        "    mse = []\n",
        "    qlike = []\n",
        "    for i in range(0, 29):\n",
        "        mse_i = (y_true[:, i] - y_pred[:, i]) ** 2\n",
        "        qlike_i = np.log(y_pred[:, i]) + (y_true[:, i] /  y_pred[:, i])\n",
        "        # save results (point by point)\n",
        "        #results = np.array([mse_i, qlike_i]).transpose()\n",
        "        #np.savetxt(folder + assets[i] + '.csv', results, delimiter=',', header='MSE, Q-LIKE', fmt='%10.5f', comments='')\n",
        "        mse.append(np.mean(mse_i, axis=0))\n",
        "        qlike.append(np.mean(qlike_i, axis=0))\n",
        "    return mse, qlike"
      ],
      "execution_count": 29,
      "outputs": []
    },
    {
      "cell_type": "code",
      "metadata": {
        "id": "L6Yl1yLPs13K"
      },
      "source": [
        "mse, qlike = evaluate(y_true, y_pred)\n",
        "save_folder = '/content/drive/My Drive/drive/Result/Book2.csv'\n",
        "# save results\n",
        "results = np.array([mse, qlike]).transpose()\n",
        "np.savetxt(save_folder, results, delimiter=',', header='MSE,Q-LIKE', fmt='%10.5f', comments='')"
      ],
      "execution_count": 32,
      "outputs": []
    },
    {
      "cell_type": "markdown",
      "metadata": {
        "id": "DISPiuh85fxQ"
      },
      "source": [
        "**Step 19 (Optional)**: \n",
        "Use this code for step 19 instead of the previous version to save the code point by point into the folder:\n",
        "\n",
        "\n",
        "```\n",
        "def evaluate(y_true, y_pred):\n",
        "    \"\"\"\n",
        "    Function to calculate MSE and QLIKE\n",
        "    \"\"\"\n",
        "    mse = []\n",
        "    qlike = []\n",
        "    for i in range(0, 29):\n",
        "        mse_i = (y_true[:, i] - y_pred[:, i]) ** 2\n",
        "        qlike_i = np.log(y_pred[:, i]) + (y_true[:, i] /  y_pred[:, i])\n",
        "        # save results (point by point)\n",
        "        results = np.array([mse_i, qlike_i]).transpose()\n",
        "        np.savetxt(folder + assets[i] + '.csv', results, delimiter=',', header='MSE, Q-LIKE', fmt='%10.5f', comments='')\n",
        "        mse.append(np.mean(mse_i, axis=0))\n",
        "        qlike.append(np.mean(qlike_i, axis=0))\n",
        "    return mse, qlike\n",
        "#Execute the function:\n",
        "evaluate(y_true, y_pred, '/content/drive/My Drive/Chapter 5/1Base/')\n",
        "```"
      ]
    },
    {
      "cell_type": "markdown",
      "metadata": {
        "id": "T2U472h4iZbD"
      },
      "source": [
        "**Step 20:** We can now have a look at the results of our experiment. We can summarize them using the .describe() function from pandas. This provides descriptive statistics that summarize the central tendency, dispersion, and shape of the distribution of our dataset.\n",
        "<p>This is done by using the following code:\n"
      ]
    },
    {
      "cell_type": "markdown",
      "metadata": {
        "id": "9IRqLhf67JJW"
      },
      "source": [
        "**Step 20 (Optional)**: Use this code if you want to save your files into a folder\n",
        "\n",
        "```\n",
        "save_folder='/content/drive/My Drive/Chapter 5/Result/1.csv'\n",
        "# Apply EVALUATE function to predictions\n",
        "\n",
        "mse0, qlike0 = evaluate(y_true0, y_pred0)\n",
        "\n",
        "# save results\n",
        "results = np.array([mse, qlike]).transpose()\n",
        "np.savetxt(save_folder, results, delimiter=',', header='MSE,Q-LIKE', fmt='%10.5f', comments='')\n",
        "\n",
        "df = pd.DataFrame({'MSE': mse0, 'QLIKE': qlike0})\n",
        "print(df.describe())\n",
        "\n",
        "```\n",
        "\n"
      ]
    },
    {
      "cell_type": "code",
      "metadata": {
        "colab": {
          "base_uri": "https://localhost:8080/"
        },
        "id": "xXHlHnXxvjIX",
        "outputId": "40520d9f-c460-400b-e9af-781bd07a625c"
      },
      "source": [
        "save_folder = '/content/drive/My Drive/drive/Result/Book 2.csv'\n",
        "# Apply EVALUATE function to predictions\n",
        " \n",
        "mse0, qlike0 = evaluate(y_true0, y_pred0)\n",
        " \n",
        "# save results\n",
        "results = np.array([mse0, qlike0]).transpose()\n",
        "np.savetxt(save_folder, results, delimiter=',', header='MSE,Q-LIKE', fmt='%10.5f', comments='')\n",
        " \n",
        "df = pd.DataFrame({'MSE': mse0, 'QLIKE': qlike0})\n",
        "print(df.describe())"
      ],
      "execution_count": 34,
      "outputs": [
        {
          "output_type": "stream",
          "text": [
            "             MSE      QLIKE\n",
            "count  29.000000  29.000000\n",
            "mean    9.135602   1.663227\n",
            "std     8.186908   0.393053\n",
            "min     0.690033   0.676252\n",
            "25%     2.777562   1.514512\n",
            "50%     8.354048   1.708659\n",
            "75%    11.472553   1.870981\n",
            "max    38.210417   2.556720\n"
          ],
          "name": "stdout"
        }
      ]
    },
    {
      "cell_type": "markdown",
      "metadata": {
        "id": "2_WycZbcierL"
      },
      "source": [
        "The MSE is too high and is not consistent between the different stocks, as shown by its higher standard deviation in the summary. However, the QLIKE seems to be a more stable measure."
      ]
    },
    {
      "cell_type": "markdown",
      "metadata": {
        "id": "Nr52z-0hiiKW"
      },
      "source": [
        "## Improving the model's performance\n",
        "Up until now, we have used the first 300 days of data to train the network and then predictions have been made using a rolling forecast window one-step-ahead without the fitted model being updated. This is what we call **offline learning.**\n",
        "<p>A more convenient method is to update the model as new observations become available. These could be either returns or realized volatility. This means re-executing the training of the model at the end of each day before using it to make a forecast for the next day. The purpose of transfer learning is to adjust the network parameters to identify different patterns in price movements.\n",
        "<p>In our example, after the initial training over 300 days along 300 epochs, we will carry out an additional training phase using the current look-back window along a further 20 epochs. We can do this by including both the model (re)fitting and the prediction inside the one-day moving ahead loop, as shown in the following code snippet:\n",
        "\n",
        "**Step 21.a:** First, we initialize empty NumPy arrays to store the true and predicted sequences day-by-day inside the loop:"
      ]
    },
    {
      "cell_type": "markdown",
      "metadata": {
        "id": "wECS5EuYiv4-"
      },
      "source": [
        "**Step 21.b:** For the initial training, we will use the first 300 days to fit the LSTM model during 300 epochs. The output will be the volatility of the next day. On successive days, we will move the sliding window one-day ahead and retrain the network for 20 epochs:"
      ]
    },
    {
      "cell_type": "markdown",
      "metadata": {
        "id": "_O6f35RN-jKC"
      },
      "source": [
        "# **Model 2 (Online LSTM model)**"
      ]
    },
    {
      "cell_type": "code",
      "metadata": {
        "id": "mFu0gLRs_IEC"
      },
      "source": [
        "# Create empty arrays\n",
        "y_pred = np.empty((0, n_assets))\n",
        "y_true = np.empty((0, n_assets))\n",
        "## Training and evaluating the model (On-line learning)\n",
        "\n",
        "for j in range(training_days - look_back + 1, X.shape[0]):\n",
        "\n",
        "    if j == (training_days - look_back + 1):\n",
        "\n",
        "        # First training days for training\n",
        "        X_train = X[:j]\n",
        "        y_train = y[:j]\n",
        "\n",
        "        # Next day for forecasting\n",
        "        X_test = X[j].reshape(1, look_back, n_features)\n",
        "\n",
        "        # Ensure the correct shape for LSTM\n",
        "        X_test = np.tile(X_test, (batch_size, 1, 1))\n",
        "        y_test = np.tile(y[j], (batch_size, 1))\n",
        "\n",
        "        # Training epochs\n",
        "        epochs = 300\n",
        "    \n",
        "    else:\n",
        "\n",
        "        # Available data to refine network state\n",
        "        X_train = X_test\n",
        "        y_train = y_test\n",
        "\n",
        "        # Ensure the correct shape for LSTM\n",
        "        X_test = X[j].reshape(1, look_back, n_features)\n",
        "        X_test = np.tile(X_test, (batch_size, 1, 1))\n",
        "        y_test = np.tile(y[j], (batch_size, 1))\n",
        "\n",
        "        # Epochs for updating\n",
        "        epochs = 20\n",
        "        \n",
        "    # Fit the model\n",
        "    for i in range(epochs):\n",
        "        model.fit(X_train,\n",
        "                  y_train,\n",
        "                  epochs=1,\n",
        "                  batch_size=batch_size,\n",
        "                  verbose=0,\n",
        "                  shuffle=False)\n",
        "        model.reset_states()\n",
        "    \n",
        "    # Evaluate the model\n",
        "    # Make predictions\n",
        "    predicted_output = model.predict(X_test, batch_size=batch_size)\n",
        "\n",
        "    predicted_output = predicted_output[0].reshape(1, n_assets)\n",
        "    true_output = y_test[0].reshape(1, n_assets)\n",
        "\n",
        "    # Save current prediction into an array\n",
        "    y_pred = np.append(y_pred, predicted_output, axis=0)\n",
        "    y_true = np.append(y_true, true_output, axis=0)"
      ],
      "execution_count": 35,
      "outputs": []
    },
    {
      "cell_type": "markdown",
      "metadata": {
        "id": "JlvDn1Kpm1NA"
      },
      "source": [
        "**Step 22& 23**: we apply inversion and evaluate function similar to step 18-20 in handout 1. Since we already created these variables, we simply just have to apply the functions as follow:"
      ]
    },
    {
      "cell_type": "code",
      "metadata": {
        "id": "igCfRnJPcgc4"
      },
      "source": [
        "# Apply inversion\n",
        "y_pred1 = invert_standardization(y_pred, M2, factor)\n",
        "y_true1 = invert_standardization(y_true, M2, factor)"
      ],
      "execution_count": 36,
      "outputs": []
    },
    {
      "cell_type": "code",
      "metadata": {
        "colab": {
          "base_uri": "https://localhost:8080/"
        },
        "id": "tk1auBlUdmyy",
        "outputId": "005c0a33-0a72-4e73-839b-bf73a0045c0c"
      },
      "source": [
        "# Apply EVALUATE function to predictions\n",
        "mse1, qlike1 = evaluate(y_true1, y_pred1)\n",
        "df1 = pd.DataFrame({'MSE': mse1, 'QLIKE': qlike1})\n",
        "print(df1.describe())\n",
        "# Model 2 Performance"
      ],
      "execution_count": 38,
      "outputs": [
        {
          "output_type": "stream",
          "text": [
            "             MSE      QLIKE\n",
            "count  29.000000  29.000000\n",
            "mean    4.501888   1.417343\n",
            "std     7.199565   0.395364\n",
            "min     0.237103   0.394209\n",
            "25%     0.995535   1.307156\n",
            "50%     1.625886   1.390395\n",
            "75%     4.049206   1.631335\n",
            "max    36.553772   2.250515\n"
          ],
          "name": "stdout"
        }
      ]
    },
    {
      "cell_type": "markdown",
      "metadata": {
        "id": "kx8L6qO8m1NB"
      },
      "source": [
        "These results look much better. The MSE is lower across all statistics. The maximum value of the MSE is still high, however, which suggests the model performed badly for a few stocks. The QLIKE is slightly better than in the previous case."
      ]
    },
    {
      "cell_type": "markdown",
      "metadata": {
        "id": "U2hiNBTA_owz"
      },
      "source": [
        "# **Model 3 (Two-layer Stacked LSTM with Hyperparameter Tuning):**"
      ]
    },
    {
      "cell_type": "markdown",
      "metadata": {
        "id": "33KFxt_1m1NB"
      },
      "source": [
        "**Step 24:** The following code defines a two-layer stacked LSTM made up of 58 and 29 units respectively and the activation function of the output layer is changed to the softplus function. The output of the second LSTM is given as input to the output dense layer. "
      ]
    },
    {
      "cell_type": "code",
      "metadata": {
        "id": "CR0oo_mAArq9"
      },
      "source": [
        "# Create the model\n",
        "model = Sequential()\n",
        "model.add(LSTM(58,\n",
        "               input_shape=(look_back, n_features),\n",
        "               batch_size=batch_size,\n",
        "               return_sequences=True,\n",
        "               stateful=True,\n",
        "               activity_regularizer=regularizers.l1_l2(),\n",
        "               recurrent_regularizer=regularizers.l1_l2()))\n",
        "model.add(Dropout(0.2))\n",
        "model.add(LSTM(29,\n",
        "               return_sequences=False,\n",
        "               stateful=True,\n",
        "               activity_regularizer=regularizers.l1_l2(),\n",
        "               recurrent_regularizer=regularizers.l1_l2()))\n",
        "model.add(Dense(n_assets, activation='softplus'))\n",
        "\n",
        "# Compile the LSTM model\n",
        "model.compile(loss='mse', optimizer='rmsprop')"
      ],
      "execution_count": 39,
      "outputs": []
    },
    {
      "cell_type": "code",
      "metadata": {
        "id": "xJcP3pdoAvY3"
      },
      "source": [
        "## Training and evaluating the model (On-line learning)\n",
        "\n",
        "# Create empty arrays\n",
        "y_pred = np.empty((0, n_assets))\n",
        "y_true = np.empty((0, n_assets))\n",
        "\n",
        "for j in range(training_days - look_back + 1, X.shape[0]):\n",
        "\n",
        "    if j == (training_days - look_back + 1):\n",
        "\n",
        "        # First training days for training\n",
        "        X_train = X[:j]\n",
        "        y_train = y[:j]\n",
        "\n",
        "        # Next day for forecasting\n",
        "        X_test = X[j].reshape(1, look_back, n_features)\n",
        "\n",
        "        # Ensure the correct shape for LSTM\n",
        "        X_test = np.tile(X_test, (batch_size, 1, 1))\n",
        "        y_test = np.tile(y[j], (batch_size, 1))\n",
        "\n",
        "        # Training epochs\n",
        "        epochs = 300\n",
        "    \n",
        "    else:\n",
        "\n",
        "        # Available data to refine network state\n",
        "        X_train = X_test\n",
        "        y_train = y_test\n",
        "\n",
        "        # Ensure the correct shape for LSTM\n",
        "        X_test = X[j].reshape(1, look_back, n_features)\n",
        "        X_test = np.tile(X_test, (batch_size, 1, 1))\n",
        "        y_test = np.tile(y[j], (batch_size, 1))\n",
        "\n",
        "        # Epochs for updating\n",
        "        epochs = 20\n",
        "        \n",
        "    # Fit the model\n",
        "    for i in range(epochs):\n",
        "        model.fit(X_train,\n",
        "                  y_train,\n",
        "                  epochs=1,\n",
        "                  batch_size=batch_size,\n",
        "                  verbose=0,\n",
        "                  shuffle=False)\n",
        "        model.reset_states()\n",
        "    \n",
        "    # Evaluate the model\n",
        "    # Make predictions\n",
        "    predicted_output = model.predict(X_test, batch_size=batch_size)\n",
        "\n",
        "    predicted_output = predicted_output[0].reshape(1, n_assets)\n",
        "    true_output = y_test[0].reshape(1, n_assets)\n",
        "\n",
        "    # Save current prediction into an array\n",
        "    y_pred = np.append(y_pred, predicted_output, axis=0)\n",
        "    y_true = np.append(y_true, true_output, axis=0)"
      ],
      "execution_count": 40,
      "outputs": []
    },
    {
      "cell_type": "markdown",
      "metadata": {
        "id": "lh_uZdPum1NB"
      },
      "source": [
        "**Step 25:** To evaluate the model, apply inversion and use .describe to print out the model performance:"
      ]
    },
    {
      "cell_type": "code",
      "metadata": {
        "colab": {
          "base_uri": "https://localhost:8080/"
        },
        "id": "qWXq1r3wAvtM",
        "outputId": "0e20c475-a2b9-4e34-e9e4-7a0f4510fa23"
      },
      "source": [
        "# Apply inversion\n",
        "y_pred2 = invert_standardization(y_pred, M2, factor)\n",
        "y_true2 = invert_standardization(y_true, M2, factor)\n",
        "mse2, qlike2 = evaluate(y_true2, y_pred2)\n",
        "df2 = pd.DataFrame({'MSE': mse2, 'QLIKE': qlike2})\n",
        "print(df2.describe())\n",
        "# Model 3 Performance"
      ],
      "execution_count": 41,
      "outputs": [
        {
          "output_type": "stream",
          "text": [
            "             MSE      QLIKE\n",
            "count  29.000000  29.000000\n",
            "mean    2.901715   1.292736\n",
            "std     4.272144   0.395710\n",
            "min     0.209767   0.215527\n",
            "25%     0.672682   1.071142\n",
            "50%     1.074320   1.323735\n",
            "75%     2.688659   1.467691\n",
            "max    20.949637   2.177815\n"
          ],
          "name": "stdout"
        }
      ]
    },
    {
      "cell_type": "markdown",
      "metadata": {
        "id": "OyjdcR8Um1NB"
      },
      "source": [
        "As can be seen in the preceding results, stacked layers and hyperparameter tuning have obtained a great improvement for both MSE and QLIKE with respect to the initial configuration."
      ]
    },
    {
      "cell_type": "markdown",
      "metadata": {
        "id": "1jIojV3y_MrR"
      },
      "source": [
        "# **Model 4 (RNN):**"
      ]
    },
    {
      "cell_type": "code",
      "metadata": {
        "id": "O4im3UaED3N6"
      },
      "source": [
        "# Create the model\n",
        "model = Sequential()\n",
        "model.add(SimpleRNN(58,\n",
        "               input_shape=(look_back, n_features),\n",
        "               batch_size=batch_size,\n",
        "               return_sequences=True,\n",
        "               stateful=True,\n",
        "               activity_regularizer=regularizers.l1_l2(),\n",
        "               recurrent_regularizer=regularizers.l1_l2()))\n",
        "model.add(Dropout(0.2))\n",
        "model.add(SimpleRNN(29,\n",
        "               return_sequences=False,\n",
        "               stateful=True,\n",
        "               activity_regularizer=regularizers.l1_l2(),\n",
        "               recurrent_regularizer=regularizers.l1_l2()))\n",
        "model.add(Dense(n_assets, activation='softplus'))\n",
        "\n",
        "# Compile the LSTM model\n",
        "model.compile(loss='mse', optimizer='rmsprop')"
      ],
      "execution_count": 42,
      "outputs": []
    },
    {
      "cell_type": "code",
      "metadata": {
        "id": "coh0ksX1D37w"
      },
      "source": [
        "## Training and evaluating the model (On-line learning)\n",
        "\n",
        "# Create empty arrays\n",
        "y_pred = np.empty((0, n_assets))\n",
        "y_true = np.empty((0, n_assets))\n",
        "\n",
        "for j in range(training_days - look_back + 1, X.shape[0]):\n",
        "\n",
        "    if j == (training_days - look_back + 1):\n",
        "\n",
        "        # First training days for training\n",
        "        X_train = X[:j]\n",
        "        y_train = y[:j]\n",
        "\n",
        "        # Next day for forecasting\n",
        "        X_test = X[j].reshape(1, look_back, n_features)\n",
        "\n",
        "        # Ensure the correct shape for LSTM\n",
        "        X_test = np.tile(X_test, (batch_size, 1, 1))\n",
        "        y_test = np.tile(y[j], (batch_size, 1))\n",
        "\n",
        "        # Training epochs\n",
        "        epochs = 300\n",
        "    \n",
        "    else:\n",
        "\n",
        "        # Available data to refine network state\n",
        "        X_train = X_test\n",
        "        y_train = y_test\n",
        "\n",
        "        # Ensure the correct shape for LSTM\n",
        "        X_test = X[j].reshape(1, look_back, n_features)\n",
        "        X_test = np.tile(X_test, (batch_size, 1, 1))\n",
        "        y_test = np.tile(y[j], (batch_size, 1))\n",
        "\n",
        "        # Epochs for updating\n",
        "        epochs = 20\n",
        "        \n",
        "    # Fit the model\n",
        "    for i in range(epochs):\n",
        "        model.fit(X_train,\n",
        "                  y_train,\n",
        "                  epochs=1,\n",
        "                  batch_size=batch_size,\n",
        "                  verbose=0,\n",
        "                  shuffle=False)\n",
        "        model.reset_states()\n",
        "    \n",
        "    # Evaluate the model\n",
        "    # Make predictions\n",
        "    predicted_output = model.predict(X_test, batch_size=batch_size)\n",
        "\n",
        "    predicted_output = predicted_output[0].reshape(1, n_assets)\n",
        "    true_output = y_test[0].reshape(1, n_assets)\n",
        "\n",
        "    # Save current prediction into an array\n",
        "    y_pred = np.append(y_pred, predicted_output, axis=0)\n",
        "    y_true = np.append(y_true, true_output, axis=0)"
      ],
      "execution_count": 43,
      "outputs": []
    },
    {
      "cell_type": "code",
      "metadata": {
        "colab": {
          "base_uri": "https://localhost:8080/"
        },
        "id": "jWDjCDKVwUUJ",
        "outputId": "4baa3b73-4cd9-4b55-dcc4-7506be348fa0"
      },
      "source": [
        "y_pred3 = invert_standardization(y_pred, M2, factor)\n",
        "y_true3 = invert_standardization(y_true, M2, factor)\n",
        "mse3, qlike = evaluate(y_true3, y_pred3)\n",
        "df = pd.DataFrame({'MSE': mse3, 'QLIKE': qlike})\n",
        "print(df.describe())\n",
        "# performance of model 4"
      ],
      "execution_count": 45,
      "outputs": [
        {
          "output_type": "stream",
          "text": [
            "             MSE      QLIKE\n",
            "count  29.000000  29.000000\n",
            "mean    3.086127   1.290924\n",
            "std     5.036871   0.395053\n",
            "min     0.200125   0.214988\n",
            "25%     0.666051   1.068731\n",
            "50%     1.130976   1.328740\n",
            "75%     2.609641   1.465130\n",
            "max    25.820647   2.180489\n"
          ],
          "name": "stdout"
        }
      ]
    },
    {
      "cell_type": "markdown",
      "metadata": {
        "id": "W-If5UJLQUJh"
      },
      "source": [
        "# **Visualizing Cumulative MSE for Model Comparison** "
      ]
    },
    {
      "cell_type": "code",
      "metadata": {
        "colab": {
          "base_uri": "https://localhost:8080/",
          "height": 522
        },
        "id": "EXJF8mnmCOWz",
        "outputId": "8d6705f6-1cf6-43a0-8b58-c0a7940f74b5"
      },
      "source": [
        "plt.figure(figsize=(14, 8))\n",
        "plt.plot(assets, np.cumsum(mse0))\n",
        "plt.plot(assets, np.cumsum(mse1))\n",
        "plt.plot(assets, np.cumsum(mse2))\n",
        "plt.plot(assets, np.cumsum(mse3))\n",
        "plt.legend(['1 - Baseline', '2 - LSTM', '3 - LSTM2', '4 - RNN'], loc='best')\n",
        "plt.xlabel('Stock Symbol', fontsize=14)\n",
        "plt.ylabel('Cumulative Mean Squared Error (MSE)', fontsize=14)\n",
        "plt.title('Cumulative MSE Curves for Each Forecasting Models --- Yifeng He', fontsize=20)\n",
        "plt.xlim([0,29])\n",
        "plt.ylim([0,300])\n",
        "plt.show()"
      ],
      "execution_count": 46,
      "outputs": [
        {
          "output_type": "display_data",
          "data": {
            "image/png": "[encoded data removed]",
            "text/plain": [
              "<Figure size 1008x576 with 1 Axes>"
            ]
          },
          "metadata": {
            "tags": [],
            "needs_background": "light"
          }
        }
      ]
    },
    {
      "cell_type": "markdown",
      "metadata": {
        "id": "-0l1QhM5Q0Yy"
      },
      "source": [
        "*   From the preceding plot, we can confirm that the stacked LSTM with hyperparameter tuning (Model 3) always performs better. Our baseline model (Model 1) produced the worst results.\n",
        "*   The volatility of the stock GM is relatively unpredictable since the slope of the curves were steeper than any other stocks.\n",
        "\n"
      ]
    }
  ]
}